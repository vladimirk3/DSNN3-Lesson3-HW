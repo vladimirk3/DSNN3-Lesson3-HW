{
  "nbformat": 4,
  "nbformat_minor": 0,
  "metadata": {
    "kernelspec": {
      "display_name": "Python 3",
      "language": "python",
      "name": "python3"
    },
    "language_info": {
      "codemirror_mode": {
        "name": "ipython",
        "version": 3
      },
      "file_extension": ".py",
      "mimetype": "text/x-python",
      "name": "python",
      "nbconvert_exporter": "python",
      "pygments_lexer": "ipython3",
      "version": "3.7.3"
    },
    "latex_envs": {
      "LaTeX_envs_menu_present": true,
      "autoclose": false,
      "autocomplete": true,
      "bibliofile": "biblio.bib",
      "cite_by": "apalike",
      "current_citInitial": 1,
      "eqLabelWithNumbers": true,
      "eqNumInitial": 1,
      "hotkeys": {
        "equation": "Ctrl-E",
        "itemize": "Ctrl-I"
      },
      "labels_anchors": false,
      "latex_user_defs": false,
      "report_style_numbering": false,
      "user_envs_cfg": false
    },
    "toc": {
      "base_numbering": 1,
      "nav_menu": {},
      "number_sections": true,
      "sideBar": true,
      "skip_h1_title": false,
      "title_cell": "Table of Contents",
      "title_sidebar": "Contents",
      "toc_cell": false,
      "toc_position": {},
      "toc_section_display": true,
      "toc_window_display": false
    },
    "varInspector": {
      "cols": {
        "lenName": 16,
        "lenType": 16,
        "lenVar": 40
      },
      "kernels_config": {
        "python": {
          "delete_cmd_postfix": "",
          "delete_cmd_prefix": "del ",
          "library": "var_list.py",
          "varRefreshCmd": "print(var_dic_list())"
        },
        "r": {
          "delete_cmd_postfix": ") ",
          "delete_cmd_prefix": "rm(",
          "library": "var_list.r",
          "varRefreshCmd": "cat(var_dic_list()) "
        }
      },
      "types_to_exclude": [
        "module",
        "function",
        "builtin_function_or_method",
        "instance",
        "_Feature"
      ],
      "window_display": false
    },
    "colab": {
      "name": "Intro to NN 3 (hw)",
      "provenance": [],
      "collapsed_sections": []
    },
    "accelerator": "GPU"
  },
  "cells": [
    {
      "cell_type": "markdown",
      "metadata": {
        "collapsed": true,
        "id": "h97RdWrNxjed"
      },
      "source": [
        "# Домашнее задание. Свёрточные сети\n",
        "\n",
        "Здесь вам предстоит построить и обучить свою первую свёрточную сеть для классификации изображений на данных CIFAR10. "
      ]
    },
    {
      "cell_type": "code",
      "metadata": {
        "id": "Bj5T_3dxxjee"
      },
      "source": [
        "import tensorflow as tf\n",
        "\n",
        "from tqdm import tqdm_notebook"
      ],
      "execution_count": 2,
      "outputs": []
    },
    {
      "cell_type": "markdown",
      "metadata": {
        "id": "8967u5Bzxjef"
      },
      "source": [
        "## Данные\n",
        "\n",
        "CIFAR10\n",
        "* 60000 RGB изображений размером 32x32x3\n",
        "* 10 классов: самолёты, собаки, рыбы и т.п.\n",
        "\n",
        "<img src=\"https://www.samyzaf.com/ML/cifar10/cifar1.jpg\" style=\"width:60%\">"
      ]
    },
    {
      "cell_type": "markdown",
      "metadata": {
        "id": "xFMGMCFrxjef"
      },
      "source": [
        "Загрузите данные, разделите их на обучающую и тестовую выборки. Размер тестовой выборки должен быть $10^4$."
      ]
    },
    {
      "cell_type": "code",
      "metadata": {
        "id": "bf04QwsBxjef",
        "colab": {
          "base_uri": "https://localhost:8080/"
        },
        "outputId": "a9218720-3328-4979-db34-075dd7b78b1d"
      },
      "source": [
        "import numpy as np\n",
        "from keras.datasets import cifar10\n",
        "from sklearn.model_selection import train_test_split\n",
        "(X_train, y_train), (X_test, y_test) = cifar10.load_data()\n",
        "X_train, X_val, y_train, y_val = train_test_split(X_train, y_train, test_size=10**4, random_state=42)\n",
        "\n",
        "class_names = np.array(['airplane','automobile ','bird ','cat ','deer ','dog ','frog ','horse ','ship ','truck'])\n",
        "\n",
        "print (X_train.shape,y_train.shape)"
      ],
      "execution_count": 3,
      "outputs": [
        {
          "output_type": "stream",
          "name": "stdout",
          "text": [
            "Downloading data from https://www.cs.toronto.edu/~kriz/cifar-10-python.tar.gz\n",
            "170500096/170498071 [==============================] - 2s 0us/step\n",
            "170508288/170498071 [==============================] - 2s 0us/step\n",
            "(40000, 32, 32, 3) (40000, 1)\n"
          ]
        }
      ]
    },
    {
      "cell_type": "code",
      "metadata": {
        "id": "h0PfsV5Ud-kz",
        "outputId": "f31c756c-bd1a-4b64-9cc7-2c763cd165f1",
        "colab": {
          "base_uri": "https://localhost:8080/"
        }
      },
      "source": [
        "a = np.array(cifar10.load_data())"
      ],
      "execution_count": 4,
      "outputs": [
        {
          "output_type": "stream",
          "name": "stderr",
          "text": [
            "/usr/local/lib/python3.7/dist-packages/ipykernel_launcher.py:1: VisibleDeprecationWarning: Creating an ndarray from ragged nested sequences (which is a list-or-tuple of lists-or-tuples-or ndarrays with different lengths or shapes) is deprecated. If you meant to do this, you must specify 'dtype=object' when creating the ndarray\n",
            "  \"\"\"Entry point for launching an IPython kernel.\n"
          ]
        }
      ]
    },
    {
      "cell_type": "markdown",
      "metadata": {
        "id": "_XS_kZF9xjeh"
      },
      "source": [
        "Прежде чем приступать к основной работе, стоит убедиться что загруженно именно то, что требовалось:"
      ]
    },
    {
      "cell_type": "code",
      "metadata": {
        "id": "1Sih-A1Dxjeh",
        "colab": {
          "base_uri": "https://localhost:8080/",
          "height": 593
        },
        "outputId": "ab185520-0ea6-46ea-ff86-55b396d31c33"
      },
      "source": [
        "import matplotlib.pyplot as plt\n",
        "%matplotlib inline\n",
        "\n",
        "plt.figure(figsize=[12,10])\n",
        "for i in range(12):\n",
        "    plt.subplot(3, 4, i + 1)\n",
        "    plt.xlabel(class_names[y_train[i, 0]])\n",
        "    plt.imshow(X_train[i])"
      ],
      "execution_count": 5,
      "outputs": [
        {
          "output_type": "display_data",
          "data": {
            "image/png": "[encoded data removed]",
            "text/plain": [
              "<Figure size 864x720 with 12 Axes>"
            ]
          },
          "metadata": {
            "needs_background": "light"
          }
        }
      ]
    },
    {
      "cell_type": "markdown",
      "metadata": {
        "id": "2iXiYWbdxjei"
      },
      "source": [
        "## Подготовка данных\n",
        "\n",
        "Сейчас каждый пиксель изображения закодирован тройкой чисел (RGB) __от 0 до 255__. Однако лучше себя показывает подход, где значения входов нейросети распределены недалеко от 0.\n",
        "\n",
        "Давайте приведём все данные в диапазон __`[0, 1]`__ — просто разделим на соответствующий коэффициент:"
      ]
    },
    {
      "cell_type": "code",
      "metadata": {
        "id": "OhIwnVXdxjei"
      },
      "source": [
        "X_train = X_train / 255\n",
        "X_val = X_val / 255\n",
        "X_test = X_test / 255"
      ],
      "execution_count": 6,
      "outputs": []
    },
    {
      "cell_type": "markdown",
      "metadata": {
        "id": "WSRXEBo9xjej"
      },
      "source": [
        "Исполните код ниже для проверки, что все выполнено корректно."
      ]
    },
    {
      "cell_type": "code",
      "metadata": {
        "id": "iZQD2dTpxjej"
      },
      "source": [
        "assert np.shape(X_train) == (40000, 32, 32, 3), \"data shape should not change\"\n",
        "assert 0.9 <= max(map(np.max, (X_train, X_val, X_test))) <= 1.05\n",
        "assert 0.0 <= min(map(np.min, (X_train, X_val, X_test))) <= 0.1\n",
        "assert len(np.unique(X_test / 255.)) > 10, \"make sure you casted data to float type\""
      ],
      "execution_count": 7,
      "outputs": []
    },
    {
      "cell_type": "markdown",
      "metadata": {
        "id": "qdztr8BHxjej"
      },
      "source": [
        "## Архитектура сети\n",
        "\n",
        "Для начала реализуйте простую нейросеть:\n",
        "1. принимает на вход картинки размера 32 x 32 x 3;\n",
        "2. вытягивает их в вектор (`keras.layers.Flatten`);\n",
        "3. пропускает через 1 или 2 полносвязных слоя;\n",
        "4. выходной слой отдает вероятности принадлежности к каждому из 10 классов."
      ]
    },
    {
      "cell_type": "markdown",
      "metadata": {
        "id": "E5VwlwV8xjek"
      },
      "source": [
        "Создайте полносвязную сеть:"
      ]
    },
    {
      "cell_type": "code",
      "metadata": {
        "id": "P0B2-vnExjek"
      },
      "source": [
        "import keras\n",
        "from keras import layers as L\n",
        "from keras import backend as K"
      ],
      "execution_count": 8,
      "outputs": []
    },
    {
      "cell_type": "code",
      "metadata": {
        "id": "Ub9pQE0Nxjek",
        "colab": {
          "base_uri": "https://localhost:8080/"
        },
        "outputId": "bfdc813d-d5a5-4ac0-8f09-a91fd5c3d85d"
      },
      "source": [
        "model = keras.models.Sequential([\n",
        "    keras.Input(shape=(32, 32, 3)),\n",
        "    keras.layers.Flatten(),\n",
        "    #первый полносвязный слой\n",
        "    keras.layers.Dense(32, activation=\"tanh\"),\n",
        "    #второй полносвяный слой\n",
        "    keras.layers.Dense(32, activation=\"relu\"),\n",
        "    keras.layers.Dense(10, activation=\"softmax\"),]\n",
        ")\n",
        "model.compile(optimizer='adam',\n",
        "              loss='categorical_crossentropy',\n",
        "              metrics=['accuracy'])\n",
        "y_train_labels = tf.keras.utils.to_categorical(y_train)\n",
        "model.fit(X_train, \n",
        "          y_train_labels,\n",
        "          batch_size=32, \n",
        "          epochs=5,\n",
        "          validation_split=0.2) "
      ],
      "execution_count": 18,
      "outputs": [
        {
          "output_type": "stream",
          "name": "stdout",
          "text": [
            "Epoch 1/5\n",
            "1000/1000 [==============================] - 4s 4ms/step - loss: 2.0751 - accuracy: 0.2017 - val_loss: 1.9785 - val_accuracy: 0.2444\n",
            "Epoch 2/5\n",
            "1000/1000 [==============================] - 4s 4ms/step - loss: 1.9697 - accuracy: 0.2689 - val_loss: 1.9362 - val_accuracy: 0.2889\n",
            "Epoch 3/5\n",
            "1000/1000 [==============================] - 3s 3ms/step - loss: 1.9376 - accuracy: 0.2828 - val_loss: 1.9472 - val_accuracy: 0.2627\n",
            "Epoch 4/5\n",
            "1000/1000 [==============================] - 3s 3ms/step - loss: 1.9093 - accuracy: 0.3048 - val_loss: 1.9180 - val_accuracy: 0.3059\n",
            "Epoch 5/5\n",
            "1000/1000 [==============================] - 4s 4ms/step - loss: 1.8855 - accuracy: 0.3153 - val_loss: 1.8985 - val_accuracy: 0.3077\n"
          ]
        },
        {
          "output_type": "execute_result",
          "data": {
            "text/plain": [
              "<keras.callbacks.History at 0x7f962c7485d0>"
            ]
          },
          "metadata": {},
          "execution_count": 18
        }
      ]
    },
    {
      "cell_type": "code",
      "metadata": {
        "id": "Yg6VYd3qxjel",
        "colab": {
          "base_uri": "https://localhost:8080/"
        },
        "outputId": "6e80d8b2-b71c-4716-940f-2c82eadee3db"
      },
      "source": [
        "dummy_pred = model.predict(X_train[:20])\n",
        "assert dummy_pred.shape == (20, 10)\n",
        "assert np.allclose(dummy_pred.sum(-1), 1)\n",
        "print(\"Успех!\")"
      ],
      "execution_count": 19,
      "outputs": [
        {
          "output_type": "stream",
          "name": "stdout",
          "text": [
            "Успех!\n"
          ]
        }
      ]
    },
    {
      "cell_type": "code",
      "metadata": {
        "colab": {
          "base_uri": "https://localhost:8080/"
        },
        "id": "AZkOyMr0AnGe",
        "outputId": "157d80aa-df02-4d6d-8e07-4a4b982d8d04"
      },
      "source": [
        "dummy_pred"
      ],
      "execution_count": 20,
      "outputs": [
        {
          "output_type": "execute_result",
          "data": {
            "text/plain": [
              "array([[0.05988115, 0.14278276, 0.05188534, 0.1733999 , 0.02792975,\n",
              "        0.2623586 , 0.10120534, 0.073461  , 0.08039229, 0.02670387],\n",
              "       [0.06400817, 0.3659683 , 0.02720441, 0.07597712, 0.0165698 ,\n",
              "        0.06278055, 0.01969714, 0.02036593, 0.27250922, 0.07491939],\n",
              "       [0.07846899, 0.06742488, 0.08972885, 0.1640393 , 0.09787489,\n",
              "        0.23700993, 0.07489944, 0.06153897, 0.10785758, 0.0211572 ],\n",
              "       [0.02121609, 0.02627613, 0.10455379, 0.11494669, 0.17864706,\n",
              "        0.12429216, 0.25379062, 0.13836646, 0.00516246, 0.03274856],\n",
              "       [0.0350334 , 0.02353292, 0.20492537, 0.11386975, 0.21677755,\n",
              "        0.11287268, 0.17395304, 0.09037274, 0.01180695, 0.01685568],\n",
              "       [0.0917211 , 0.06184179, 0.12306271, 0.18302715, 0.09831504,\n",
              "        0.20159537, 0.07543962, 0.06443583, 0.0756075 , 0.02495388],\n",
              "       [0.05652283, 0.37395257, 0.04233207, 0.09071738, 0.02584298,\n",
              "        0.06342507, 0.02697505, 0.0279576 , 0.18180174, 0.11047275],\n",
              "       [0.17768729, 0.09308378, 0.08068869, 0.08000846, 0.07947431,\n",
              "        0.06036361, 0.02935111, 0.11790487, 0.11590879, 0.1655291 ],\n",
              "       [0.13058966, 0.10529201, 0.063413  , 0.07991978, 0.07426692,\n",
              "        0.06117524, 0.03216679, 0.16344567, 0.07930145, 0.21042944],\n",
              "       [0.05367184, 0.27207127, 0.00895123, 0.01726118, 0.00724484,\n",
              "        0.00457878, 0.00340876, 0.01288228, 0.16506542, 0.45486444],\n",
              "       [0.3217892 , 0.02309421, 0.04952481, 0.02626529, 0.03598851,\n",
              "        0.02949894, 0.00652046, 0.01939824, 0.46235666, 0.02556372],\n",
              "       [0.07465827, 0.2488513 , 0.0125838 , 0.01919134, 0.01000115,\n",
              "        0.00571569, 0.00350287, 0.0141805 , 0.23090558, 0.38040948],\n",
              "       [0.02673616, 0.01183362, 0.18293786, 0.10725956, 0.2277122 ,\n",
              "        0.11525042, 0.20799507, 0.10435329, 0.00519862, 0.01072326],\n",
              "       [0.2900715 , 0.04699391, 0.04031573, 0.02393005, 0.02364568,\n",
              "        0.01789166, 0.00446014, 0.01452699, 0.49076965, 0.04739469],\n",
              "       [0.17085005, 0.07766704, 0.01430831, 0.01348302, 0.0081276 ,\n",
              "        0.00738653, 0.0019403 , 0.00743504, 0.6404847 , 0.05831735],\n",
              "       [0.03141896, 0.01445181, 0.16068238, 0.09912945, 0.25414896,\n",
              "        0.15515529, 0.16438057, 0.09287348, 0.0183611 , 0.00939799],\n",
              "       [0.01911777, 0.01378432, 0.09264605, 0.11721042, 0.11817988,\n",
              "        0.25011292, 0.29206517, 0.08140168, 0.00920128, 0.0062805 ],\n",
              "       [0.3009916 , 0.0221062 , 0.10162684, 0.04306532, 0.08900269,\n",
              "        0.04967854, 0.01820518, 0.05496784, 0.28970504, 0.03065071],\n",
              "       [0.18018843, 0.04548753, 0.14575721, 0.12815939, 0.09934229,\n",
              "        0.14501904, 0.04982335, 0.0622431 , 0.11275615, 0.03122359],\n",
              "       [0.06013292, 0.03548936, 0.12936538, 0.18970343, 0.10402096,\n",
              "        0.23550825, 0.12133083, 0.07846922, 0.03029457, 0.01568507]],\n",
              "      dtype=float32)"
            ]
          },
          "metadata": {},
          "execution_count": 20
        }
      ]
    },
    {
      "cell_type": "code",
      "metadata": {
        "id": "5hDL04T96hyh"
      },
      "source": [
        ""
      ],
      "execution_count": 15,
      "outputs": []
    },
    {
      "cell_type": "markdown",
      "metadata": {
        "id": "WGcAp1lexjel"
      },
      "source": [
        "## Обучение сети\n",
        "\n",
        "**Задание 1.1 (обязательно)** Будем минимизировать многоклассовую кроссэкнропию с помощью __sgd__. Вам нужно получить сеть, которая достигнет __не менее 45%__ __accuracy__ на тестовых данных.\n",
        "\n",
        "__Важно:__ поскольку в y_train лежат номера классов, Керасу нужно либо указать sparse функции потерь и метрики оценки качества классификации (`sparse_categorical_crossentropy` и `sparse_categorical_accuracy`), либо конвертировать метки в one-hot формат.\n",
        "\n",
        "### Полезные советы\n",
        "* `model.compile` позволяет указать, какие метрики вы хотите вычислять.\n",
        "* В `model.fit` можно передать валидационную выборку (`validation_data=[X_val, y_val]`), для отслеживания прогресса на ней. Также рекомендуем сохранять результаты в [tensorboard](https://keras.io/callbacks/#tensorboard) или [wandb](https://docs.wandb.ai/integrations/jupyter). **Важно: логи tensorboard не получится без боли посмотреть через colab.** Workaround: скачать логи и запустить tensorboard локально или помучаться [с этим](https://stackoverflow.com/questions/47818822/can-i-use-tensorboard-with-google-colab).\n",
        "* По умолчанию сеть учится 1 эпоху. Совсем не факт, что вам этого хватит. Число эпох можно настроить в методе `fit` (`epochs`).\n",
        "* Ещё у Кераса есть много [полезных callback-ов](https://keras.io/callbacks/), которые можно попробовать. Например, автоматическая остановка или подбор скорости обучения."
      ]
    },
    {
      "cell_type": "code",
      "metadata": {
        "id": "7iVWfkypxjel"
      },
      "source": [
        "#y_train, y_val = (tf.keras.utils.to_categorical(y) for y in (y_train, y_val))"
      ],
      "execution_count": 16,
      "outputs": []
    },
    {
      "cell_type": "code",
      "metadata": {
        "id": "kGJFy50fyFV8"
      },
      "source": [
        "from tensorflow.python.keras.callbacks import TensorBoard\n",
        "from time import time"
      ],
      "execution_count": 21,
      "outputs": []
    },
    {
      "cell_type": "code",
      "metadata": {
        "id": "M5w_Zj5Sxjem",
        "colab": {
          "base_uri": "https://localhost:8080/"
        },
        "outputId": "49b0be9e-8863-4539-ca32-ab9b88686b2c"
      },
      "source": [
        "\n",
        "model = keras.models.Sequential([\n",
        "    keras.Input(shape=(32, 32, 3)),\n",
        "    keras.layers.Flatten(),\n",
        "    #первый полносвязный слой\n",
        "    keras.layers.Dense(256, activation=\"relu\"),\n",
        "    #второй полносвяный слой\n",
        "    #keras.layers.Dense(64, activation=\"tanh\"),\n",
        "    keras.layers.Dense(10, activation=\"softmax\"),]\n",
        ")\n",
        "model.compile(optimizer='SGD',\n",
        "              loss='categorical_crossentropy',\n",
        "              metrics=['accuracy'])\n",
        "#y_train_labels = tf.keras.utils.to_categorical(y_train)\n",
        "tensorboard = TensorBoard(log_dir = \"logs/{}\".format(time()))\n",
        "tensorboard_cbk = keras.callbacks.TensorBoard(log_dir='sample/', histogram_freq=1, write_graph=True, write_images=True)\n",
        "model.fit(X_train, \n",
        "          y_train_labels,\n",
        "          batch_size=32 , \n",
        "          epochs=30,\n",
        "          callbacks=[tensorboard_cbk],\n",
        "          validation_split=0.2) \n",
        "from sklearn.metrics import accuracy_score\n",
        "print (\"test accuracy: \", accuracy_score(y_test, np.argmax(model.predict(X_test),axis=1)))"
      ],
      "execution_count": 22,
      "outputs": [
        {
          "output_type": "stream",
          "name": "stdout",
          "text": [
            "Epoch 1/30\n",
            "1000/1000 [==============================] - 5s 4ms/step - loss: 1.9235 - accuracy: 0.3124 - val_loss: 1.7939 - val_accuracy: 0.3699\n",
            "Epoch 2/30\n",
            "1000/1000 [==============================] - 4s 4ms/step - loss: 1.7572 - accuracy: 0.3828 - val_loss: 1.7346 - val_accuracy: 0.3902\n",
            "Epoch 3/30\n",
            "1000/1000 [==============================] - 4s 4ms/step - loss: 1.6790 - accuracy: 0.4103 - val_loss: 1.6820 - val_accuracy: 0.4006\n",
            "Epoch 4/30\n",
            "1000/1000 [==============================] - 4s 4ms/step - loss: 1.6280 - accuracy: 0.4278 - val_loss: 1.6135 - val_accuracy: 0.4320\n",
            "Epoch 5/30\n",
            "1000/1000 [==============================] - 4s 4ms/step - loss: 1.5852 - accuracy: 0.4438 - val_loss: 1.5874 - val_accuracy: 0.4453\n",
            "Epoch 6/30\n",
            "1000/1000 [==============================] - 3s 3ms/step - loss: 1.5489 - accuracy: 0.4584 - val_loss: 1.6047 - val_accuracy: 0.4310\n",
            "Epoch 7/30\n",
            "1000/1000 [==============================] - 3s 3ms/step - loss: 1.5215 - accuracy: 0.4690 - val_loss: 1.5741 - val_accuracy: 0.4416\n",
            "Epoch 8/30\n",
            "1000/1000 [==============================] - 4s 4ms/step - loss: 1.4947 - accuracy: 0.4800 - val_loss: 1.5712 - val_accuracy: 0.4490\n",
            "Epoch 9/30\n",
            "1000/1000 [==============================] - 4s 4ms/step - loss: 1.4694 - accuracy: 0.4882 - val_loss: 1.5427 - val_accuracy: 0.4527\n",
            "Epoch 10/30\n",
            "1000/1000 [==============================] - 4s 4ms/step - loss: 1.4478 - accuracy: 0.4910 - val_loss: 1.5108 - val_accuracy: 0.4649\n",
            "Epoch 11/30\n",
            "1000/1000 [==============================] - 3s 3ms/step - loss: 1.4307 - accuracy: 0.4993 - val_loss: 1.5301 - val_accuracy: 0.4602\n",
            "Epoch 12/30\n",
            "1000/1000 [==============================] - 4s 4ms/step - loss: 1.4101 - accuracy: 0.5072 - val_loss: 1.4953 - val_accuracy: 0.4699\n",
            "Epoch 13/30\n",
            "1000/1000 [==============================] - 3s 3ms/step - loss: 1.3915 - accuracy: 0.5142 - val_loss: 1.5075 - val_accuracy: 0.4661\n",
            "Epoch 14/30\n",
            "1000/1000 [==============================] - 4s 4ms/step - loss: 1.3734 - accuracy: 0.5187 - val_loss: 1.4907 - val_accuracy: 0.4787\n",
            "Epoch 15/30\n",
            "1000/1000 [==============================] - 3s 3ms/step - loss: 1.3543 - accuracy: 0.5248 - val_loss: 1.5235 - val_accuracy: 0.4639\n",
            "Epoch 16/30\n",
            "1000/1000 [==============================] - 4s 4ms/step - loss: 1.3420 - accuracy: 0.5329 - val_loss: 1.5042 - val_accuracy: 0.4678\n",
            "Epoch 17/30\n",
            "1000/1000 [==============================] - 3s 3ms/step - loss: 1.3325 - accuracy: 0.5368 - val_loss: 1.4796 - val_accuracy: 0.4789\n",
            "Epoch 18/30\n",
            "1000/1000 [==============================] - 3s 3ms/step - loss: 1.3140 - accuracy: 0.5438 - val_loss: 1.4637 - val_accuracy: 0.4837\n",
            "Epoch 19/30\n",
            "1000/1000 [==============================] - 4s 4ms/step - loss: 1.2983 - accuracy: 0.5474 - val_loss: 1.5044 - val_accuracy: 0.4769\n",
            "Epoch 20/30\n",
            "1000/1000 [==============================] - 4s 4ms/step - loss: 1.2891 - accuracy: 0.5482 - val_loss: 1.4510 - val_accuracy: 0.4929\n",
            "Epoch 21/30\n",
            "1000/1000 [==============================] - 4s 4ms/step - loss: 1.2745 - accuracy: 0.5586 - val_loss: 1.4828 - val_accuracy: 0.4801\n",
            "Epoch 22/30\n",
            "1000/1000 [==============================] - 4s 4ms/step - loss: 1.2624 - accuracy: 0.5603 - val_loss: 1.4304 - val_accuracy: 0.4934\n",
            "Epoch 23/30\n",
            "1000/1000 [==============================] - 3s 3ms/step - loss: 1.2479 - accuracy: 0.5639 - val_loss: 1.4304 - val_accuracy: 0.4945\n",
            "Epoch 24/30\n",
            "1000/1000 [==============================] - 4s 4ms/step - loss: 1.2380 - accuracy: 0.5681 - val_loss: 1.4437 - val_accuracy: 0.4965\n",
            "Epoch 25/30\n",
            "1000/1000 [==============================] - 3s 3ms/step - loss: 1.2263 - accuracy: 0.5708 - val_loss: 1.4306 - val_accuracy: 0.5016\n",
            "Epoch 26/30\n",
            "1000/1000 [==============================] - 4s 4ms/step - loss: 1.2127 - accuracy: 0.5775 - val_loss: 1.5063 - val_accuracy: 0.4795\n",
            "Epoch 27/30\n",
            "1000/1000 [==============================] - 3s 3ms/step - loss: 1.2036 - accuracy: 0.5792 - val_loss: 1.4359 - val_accuracy: 0.5000\n",
            "Epoch 28/30\n",
            "1000/1000 [==============================] - 4s 4ms/step - loss: 1.1899 - accuracy: 0.5828 - val_loss: 1.4329 - val_accuracy: 0.4961\n",
            "Epoch 29/30\n",
            "1000/1000 [==============================] - 3s 3ms/step - loss: 1.1796 - accuracy: 0.5871 - val_loss: 1.4374 - val_accuracy: 0.5011\n",
            "Epoch 30/30\n",
            "1000/1000 [==============================] - 3s 3ms/step - loss: 1.1683 - accuracy: 0.5928 - val_loss: 1.4226 - val_accuracy: 0.5054\n",
            "test accuracy:  0.5066\n"
          ]
        }
      ]
    },
    {
      "cell_type": "code",
      "metadata": {
        "id": "YI1bqoNFll3M",
        "outputId": "d63f8d3a-a6f8-4de4-ef59-309c501241b8",
        "colab": {
          "base_uri": "https://localhost:8080/"
        }
      },
      "source": [
        "keras.callbacks.History"
      ],
      "execution_count": 20,
      "outputs": [
        {
          "output_type": "execute_result",
          "data": {
            "text/plain": [
              "keras.callbacks.History"
            ]
          },
          "metadata": {},
          "execution_count": 20
        }
      ]
    },
    {
      "cell_type": "code",
      "metadata": {
        "id": "7bM8coUaxjem"
      },
      "source": [
        "\n",
        "\n",
        "#model.compile(# Your code here)\n",
        "#model.fit(# Your code here)"
      ],
      "execution_count": 21,
      "outputs": []
    },
    {
      "cell_type": "markdown",
      "metadata": {
        "id": "ZODNxMaQxjem"
      },
      "source": [
        "А теперь можно проверить качество вашей сети, выполнив код ниже:"
      ]
    },
    {
      "cell_type": "code",
      "metadata": {
        "scrolled": true,
        "id": "14l7JHe_xjem",
        "colab": {
          "base_uri": "https://localhost:8080/"
        },
        "outputId": "c8dc5c28-ba7f-4b57-f6a2-240f8340c635"
      },
      "source": [
        "from sklearn.metrics import accuracy_score\n",
        "test_acc = accuracy_score(y_test, np.argmax(model.predict(X_test),axis=1))\n",
        "print(\"\\n Test_acc =\", test_acc)\n",
        "assert test_acc > 0.50, \"Not good enough. Back to the drawing board :)\"\n",
        "print(\" Not bad!\")"
      ],
      "execution_count": 23,
      "outputs": [
        {
          "output_type": "stream",
          "name": "stdout",
          "text": [
            "\n",
            " Test_acc = 0.5066\n",
            " Not bad!\n"
          ]
        }
      ]
    },
    {
      "cell_type": "markdown",
      "metadata": {
        "id": "cm_SvVrqxjen"
      },
      "source": [
        "## Карманная сверточная сеть\n",
        "\n",
        "**Задание 1.2 (обязательно)** Реализуйте небольшую свёрточную сеть. Совсем небольшую:\n",
        "1. Входной слой\n",
        "2. Свёртка 3x3 с 10 фильтрами\n",
        "3. Нелинейность на ваш вкус\n",
        "4. Max-pooling 2x2\n",
        "5. Вытягиваем оставшееся в вектор (Flatten)\n",
        "6. Полносвязный слой на 100 нейронов\n",
        "7. Нелинейность на ваш вкус\n",
        "8. Выходной полносвязный слой с softmax\n",
        "\n",
        "Обучите её так же, как и предыдущую сеть. Если всё хорошо, у вас получится accuracy не меньше __50%__."
      ]
    },
    {
      "cell_type": "code",
      "metadata": {
        "scrolled": true,
        "id": "bu_Sg2sCxjeo",
        "colab": {
          "base_uri": "https://localhost:8080/"
        },
        "outputId": "cad4c94d-0c27-4021-ed54-b201e04668d9"
      },
      "source": [
        "model = keras.models.Sequential([\n",
        "    keras.Input(shape=(32, 32, 3)),\n",
        "    keras.layers.Conv2D(filters=10,\n",
        "                           kernel_size=(3, 3),\n",
        "                           padding='same',\n",
        "                           activation='relu',\n",
        "                           input_shape=X_train.shape[1:]),\n",
        "    keras.layers.MaxPool2D(pool_size=(2, 2), padding='valid'),\n",
        "    keras.layers.Flatten(),\n",
        "    #первый полносвязный слой\n",
        "    keras.layers.Dense(100, activation=\"relu\"),\n",
        "    keras.layers.Dense(10, activation=\"softmax\"),]\n",
        ")\n",
        "model.compile(optimizer='adam',\n",
        "              loss='categorical_crossentropy',\n",
        "              metrics=['accuracy'])\n",
        "y_train_labels = tf.keras.utils.to_categorical(y_train)\n",
        "model.fit(X_train, \n",
        "          y_train_labels,\n",
        "          batch_size=32, \n",
        "          epochs=20,\n",
        "          validation_split=0.2) \n",
        "print('Test Accuracy: ', accuracy_score(y_test, np.argmax(model.predict(X_test),axis=1)))"
      ],
      "execution_count": 27,
      "outputs": [
        {
          "output_type": "stream",
          "name": "stdout",
          "text": [
            "Epoch 1/20\n",
            "1000/1000 [==============================] - 10s 5ms/step - loss: 1.5502 - accuracy: 0.4414 - val_loss: 1.3452 - val_accuracy: 0.5244\n",
            "Epoch 2/20\n",
            "1000/1000 [==============================] - 4s 4ms/step - loss: 1.2658 - accuracy: 0.5527 - val_loss: 1.2732 - val_accuracy: 0.5450\n",
            "Epoch 3/20\n",
            "1000/1000 [==============================] - 5s 5ms/step - loss: 1.1470 - accuracy: 0.5972 - val_loss: 1.2223 - val_accuracy: 0.5723\n",
            "Epoch 4/20\n",
            "1000/1000 [==============================] - 5s 5ms/step - loss: 1.0615 - accuracy: 0.6248 - val_loss: 1.2291 - val_accuracy: 0.5631\n",
            "Epoch 5/20\n",
            "1000/1000 [==============================] - 5s 5ms/step - loss: 0.9856 - accuracy: 0.6515 - val_loss: 1.1751 - val_accuracy: 0.5841\n",
            "Epoch 6/20\n",
            "1000/1000 [==============================] - 4s 4ms/step - loss: 0.9212 - accuracy: 0.6748 - val_loss: 1.2124 - val_accuracy: 0.5801\n",
            "Epoch 7/20\n",
            "1000/1000 [==============================] - 5s 5ms/step - loss: 0.8599 - accuracy: 0.6967 - val_loss: 1.1834 - val_accuracy: 0.5969\n",
            "Epoch 8/20\n",
            "1000/1000 [==============================] - 5s 5ms/step - loss: 0.8083 - accuracy: 0.7148 - val_loss: 1.2008 - val_accuracy: 0.5932\n",
            "Epoch 9/20\n",
            "1000/1000 [==============================] - 5s 5ms/step - loss: 0.7539 - accuracy: 0.7353 - val_loss: 1.2140 - val_accuracy: 0.6005\n",
            "Epoch 10/20\n",
            "1000/1000 [==============================] - 5s 5ms/step - loss: 0.7020 - accuracy: 0.7538 - val_loss: 1.2550 - val_accuracy: 0.6019\n",
            "Epoch 11/20\n",
            "1000/1000 [==============================] - 5s 5ms/step - loss: 0.6561 - accuracy: 0.7715 - val_loss: 1.2454 - val_accuracy: 0.6054\n",
            "Epoch 12/20\n",
            "1000/1000 [==============================] - 5s 5ms/step - loss: 0.6134 - accuracy: 0.7843 - val_loss: 1.3098 - val_accuracy: 0.5922\n",
            "Epoch 13/20\n",
            "1000/1000 [==============================] - 5s 5ms/step - loss: 0.5677 - accuracy: 0.8006 - val_loss: 1.3584 - val_accuracy: 0.5945\n",
            "Epoch 14/20\n",
            "1000/1000 [==============================] - 5s 5ms/step - loss: 0.5316 - accuracy: 0.8127 - val_loss: 1.4384 - val_accuracy: 0.5836\n",
            "Epoch 15/20\n",
            "1000/1000 [==============================] - 4s 4ms/step - loss: 0.4882 - accuracy: 0.8306 - val_loss: 1.4929 - val_accuracy: 0.5841\n",
            "Epoch 16/20\n",
            "1000/1000 [==============================] - 4s 4ms/step - loss: 0.4491 - accuracy: 0.8436 - val_loss: 1.5469 - val_accuracy: 0.5911\n",
            "Epoch 17/20\n",
            "1000/1000 [==============================] - 5s 5ms/step - loss: 0.4150 - accuracy: 0.8557 - val_loss: 1.5452 - val_accuracy: 0.5890\n",
            "Epoch 18/20\n",
            "1000/1000 [==============================] - 5s 5ms/step - loss: 0.3837 - accuracy: 0.8672 - val_loss: 1.6804 - val_accuracy: 0.5879\n",
            "Epoch 19/20\n",
            "1000/1000 [==============================] - 4s 4ms/step - loss: 0.3506 - accuracy: 0.8781 - val_loss: 1.7147 - val_accuracy: 0.5776\n",
            "Epoch 20/20\n",
            "1000/1000 [==============================] - 5s 5ms/step - loss: 0.3188 - accuracy: 0.8908 - val_loss: 1.8153 - val_accuracy: 0.5867\n",
            "Test Accuracy:  0.588\n"
          ]
        }
      ]
    },
    {
      "cell_type": "markdown",
      "metadata": {
        "id": "f37ZT8T4xjeo"
      },
      "source": [
        "Давайте посмотрим, смогла ли карманная сверточная сеть побить заданный порог по качеству:"
      ]
    },
    {
      "cell_type": "code",
      "metadata": {
        "id": "IAYvMxhTxjep",
        "colab": {
          "base_uri": "https://localhost:8080/"
        },
        "outputId": "2537b946-3217-4c27-d120-79089e76dd9b"
      },
      "source": [
        "from sklearn.metrics import accuracy_score\n",
        "test_acc = accuracy_score(y_test, np.argmax(model.predict(X_test),axis=1))\n",
        "print(\"\\n Test_acc =\", test_acc)\n",
        "assert test_acc > 0.50, \"Not good enough. Back to the drawing board :)\"\n",
        "print(\" Not bad!\")\n"
      ],
      "execution_count": 28,
      "outputs": [
        {
          "output_type": "stream",
          "name": "stdout",
          "text": [
            "\n",
            " Test_acc = 0.588\n",
            " Not bad!\n"
          ]
        }
      ]
    },
    {
      "cell_type": "markdown",
      "metadata": {
        "id": "How0uQPzxjep"
      },
      "source": [
        "## Учимся учить\n",
        "\n",
        "А теперь научимся сравнивать кривые обучения моделей — зависимости значения accuracy от количества итераций. \n",
        "\n",
        "Вам потребуется реализовать _экспериментальный стенд_ — вспомогательный код, в который вы сможете подать несколько архитектур и методов обучения, чтобы он их обучил и вывел графики кривых обучения. Это можно сделать с помощью `keras.callbacks` — `TensorBoard` или `History`.\n",
        "\n",
        "Будьте морально готовы, что на обучение уйдёт _много времени_. Даже если вы ограничитесь 10 эпохами. Пока идёт обучение, вы можете переключиться на другие задания или заняться чем-нибудь приятным: поспать, например."
      ]
    },
    {
      "cell_type": "markdown",
      "metadata": {
        "id": "VwmdGNIHxjep"
      },
      "source": [
        "**Задание 1.3 (опционально)** Попробуйте использовать различные методы оптимизации (sgd, momentum, adam) с параметрами по умолчанию. Какой из методов работает лучше?"
      ]
    },
    {
      "cell_type": "markdown",
      "metadata": {
        "id": "LsF9iIFGxjeq"
      },
      "source": [
        "Для удобства напишем класс Evaluator, который принимает в себя дикты виды {имя_оптимайзера: инстанс}, {имя модели: инстанс} и обучает всевозможные комбинации моделей с оптимайзерами при помощи метода fit (попутно записывая логи отдельно для каждой модели). Также пригодится метод evaluate для отображения итоговых скоров."
      ]
    },
    {
      "cell_type": "markdown",
      "metadata": {
        "id": "FBtU0x2X5gmG"
      },
      "source": [
        "Пользоваться классом не обязательно. По умолчанию класс использует tensorboard. Если вы выше использовали wandb -- советуем дописать callback."
      ]
    },
    {
      "cell_type": "code",
      "metadata": {
        "id": "n6pRKzaKxjeq"
      },
      "source": [
        "class Evaluator(list):\n",
        "    def __init__(self, models, optimizers='adam', loss=keras.losses.categorical_crossentropy,\n",
        "                 metrics=[keras.metrics.categorical_accuracy]):\n",
        "        '''\n",
        "            models: dict {name: model}\n",
        "            optimizers: list of optimizers or just one optimizer\n",
        "        '''\n",
        "        if not isinstance(models, dict):\n",
        "            models = {'single_model': models}\n",
        "        if not isinstance(optimizers, dict):\n",
        "            optimizers = {str(optimizers.__class__): optimizers}\n",
        "        super().__init__([(model_name, keras.models.clone_model(model), optimizer_name, optimizer)\n",
        "                          for model_name, model in models.items()\n",
        "                          for optimizer_name, optimizer in optimizers.items()])\n",
        "        for _, model, _, optimizer in self:\n",
        "            model.compile(optimizer=optimizer, loss=loss, metrics=metrics)\n",
        "            \n",
        "    def fit(self, X, y, validation_data=(), max_epochs=100, verbose=0, callbacks=[], batch_size=32):\n",
        "        if not isinstance(callbacks, list):\n",
        "            callbacks = [callbacks]\n",
        "        for model_name, model, optimizer_name, optimizer in tqdm_notebook(self):\n",
        "            model.fit(X, y, validation_data=validation_data or None, epochs=max_epochs, verbose=verbose,\n",
        "                      batch_size=batch_size, callbacks=callbacks + [keras.callbacks.TensorBoard(\n",
        "                          log_dir='./logs/{}_{}'.format(model_name, optimizer_name))])\n",
        "            \n",
        "    def fit_generator(self, X, y, validation_data=(), max_epochs=100, verbose=1, callbacks=[], batch_size=32):\n",
        "        datagen = keras.preprocessing.image.ImageDataGenerator(\n",
        "            rotation_range=20,\n",
        "            width_shift_range=0.2,\n",
        "            height_shift_range=0.2,\n",
        "            horizontal_flip=True\n",
        "        )\n",
        "        if not isinstance(callbacks, list):\n",
        "            callbacks = [callbacks]\n",
        "        for model_name, model, optimizer_name, optimizer in tqdm_notebook(self):\n",
        "            model.fit_generator(datagen.flow(X, y, batch_size=batch_size), epochs=max_epochs,\n",
        "                validation_data=validation_data or None, verbose=verbose,\n",
        "                callbacks=callbacks + [keras.callbacks.TensorBoard(\n",
        "                    log_dir='./logs/{}_{}'.format(model_name, optimizer_name))])\n",
        "        \n",
        "    def evaluate(self, X, y, metric):\n",
        "        for model_name, model, optimizer_name, _ in self:\n",
        "            print('Final score of {}_{} is {}'.format(model_name, optimizer_name,\n",
        "                  metric(y_test, model.predict_classes(X_test))))"
      ],
      "execution_count": 29,
      "outputs": []
    },
    {
      "cell_type": "code",
      "metadata": {
        "id": "vpAWyAs7xjer"
      },
      "source": [
        "!rm -rf ./logs"
      ],
      "execution_count": 30,
      "outputs": []
    },
    {
      "cell_type": "code",
      "metadata": {
        "id": "7X6IuIO-Nswh"
      },
      "source": [
        "optimizers = {\n",
        "    'sgd': 'SGD',\n",
        "    'adam': 'adam'\n",
        "}\n",
        "modelsgd = keras.models.Sequential([keras.Input(shape=(32, 32, 3)), keras.layers.Flatten()])\n",
        "modeladam = model = keras.models.Sequential([keras.Input(shape=(32, 32, 3)), keras.layers.Flatten()])\n",
        "models = {\n",
        "    'model_sgd': modelsgd,\n",
        "    'model_adam': modeladam\n",
        "}"
      ],
      "execution_count": 31,
      "outputs": []
    },
    {
      "cell_type": "code",
      "metadata": {
        "id": "0sORtAnPykIm"
      },
      "source": [
        "Попробуем использовать различные алгоритмы оптимизации такие как RMSprop"
      ],
      "execution_count": null,
      "outputs": []
    },
    {
      "cell_type": "code",
      "metadata": {
        "id": "FLtng4Cwxjer",
        "colab": {
          "base_uri": "https://localhost:8080/"
        },
        "outputId": "f7218ade-b325-423b-b34f-296a6eb9202d"
      },
      "source": [
        "model = keras.models.Sequential([\n",
        "    keras.Input(shape=(32, 32, 3)),\n",
        "    keras.layers.Flatten(),\n",
        "    #первый полносвязный слой\n",
        "    keras.layers.Dense(256, activation=\"relu\"),\n",
        "    #второй полносвяный слой\n",
        "    #keras.layers.Dense(64, activation=\"tanh\"),\n",
        "    keras.layers.Dense(10, activation=\"softmax\"),]\n",
        ")\n",
        "\n",
        "model.compile(optimizer='RMSprop',\n",
        "              loss='categorical_crossentropy',\n",
        "              metrics=['accuracy'])\n",
        "#y_train_labels = tf.keras.utils.to_categorical(y_train)\n",
        "tensorboard = TensorBoard(log_dir = \"logs/{}\".format(time()))\n",
        "tensorboard_cbk = keras.callbacks.TensorBoard(log_dir='sample/', histogram_freq=1, write_graph=True, write_images=True)\n",
        "model.fit(X_train, \n",
        "          y_train_labels,\n",
        "          batch_size=32 , \n",
        "          epochs=25,\n",
        "          callbacks=[tensorboard_cbk],\n",
        "          validation_split=0.2) \n",
        "print (\"test accuracy: \", accuracy_score(y_test, np.argmax(model.predict(X_test),axis=1)))"
      ],
      "execution_count": 32,
      "outputs": [
        {
          "output_type": "stream",
          "name": "stdout",
          "text": [
            "Epoch 1/25\n",
            "1000/1000 [==============================] - 6s 5ms/step - loss: 2.0963 - accuracy: 0.2786 - val_loss: 1.8215 - val_accuracy: 0.3191\n",
            "Epoch 2/25\n",
            "1000/1000 [==============================] - 4s 4ms/step - loss: 1.7848 - accuracy: 0.3627 - val_loss: 1.7327 - val_accuracy: 0.3831\n",
            "Epoch 3/25\n",
            "1000/1000 [==============================] - 4s 4ms/step - loss: 1.7137 - accuracy: 0.3899 - val_loss: 1.6734 - val_accuracy: 0.4047\n",
            "Epoch 4/25\n",
            "1000/1000 [==============================] - 4s 4ms/step - loss: 1.6677 - accuracy: 0.4112 - val_loss: 1.7050 - val_accuracy: 0.3915\n",
            "Epoch 5/25\n",
            "1000/1000 [==============================] - 4s 4ms/step - loss: 1.6379 - accuracy: 0.4215 - val_loss: 1.6560 - val_accuracy: 0.4100\n",
            "Epoch 6/25\n",
            "1000/1000 [==============================] - 4s 4ms/step - loss: 1.6099 - accuracy: 0.4299 - val_loss: 1.6657 - val_accuracy: 0.4086\n",
            "Epoch 7/25\n",
            "1000/1000 [==============================] - 4s 4ms/step - loss: 1.5917 - accuracy: 0.4365 - val_loss: 1.6775 - val_accuracy: 0.4066\n",
            "Epoch 8/25\n",
            "1000/1000 [==============================] - 4s 4ms/step - loss: 1.5797 - accuracy: 0.4422 - val_loss: 1.5789 - val_accuracy: 0.4433\n",
            "Epoch 9/25\n",
            "1000/1000 [==============================] - 4s 4ms/step - loss: 1.5609 - accuracy: 0.4506 - val_loss: 1.6276 - val_accuracy: 0.4185\n",
            "Epoch 10/25\n",
            "1000/1000 [==============================] - 4s 4ms/step - loss: 1.5506 - accuracy: 0.4563 - val_loss: 1.5760 - val_accuracy: 0.4423\n",
            "Epoch 11/25\n",
            "1000/1000 [==============================] - 4s 4ms/step - loss: 1.5416 - accuracy: 0.4567 - val_loss: 1.6158 - val_accuracy: 0.4304\n",
            "Epoch 12/25\n",
            "1000/1000 [==============================] - 4s 4ms/step - loss: 1.5298 - accuracy: 0.4609 - val_loss: 1.5880 - val_accuracy: 0.4412\n",
            "Epoch 13/25\n",
            "1000/1000 [==============================] - 4s 4ms/step - loss: 1.5182 - accuracy: 0.4638 - val_loss: 1.6038 - val_accuracy: 0.4358\n",
            "Epoch 14/25\n",
            "1000/1000 [==============================] - 4s 4ms/step - loss: 1.5091 - accuracy: 0.4693 - val_loss: 1.5874 - val_accuracy: 0.4369\n",
            "Epoch 15/25\n",
            "1000/1000 [==============================] - 4s 4ms/step - loss: 1.5077 - accuracy: 0.4694 - val_loss: 1.6201 - val_accuracy: 0.4236\n",
            "Epoch 16/25\n",
            "1000/1000 [==============================] - 4s 4ms/step - loss: 1.4937 - accuracy: 0.4760 - val_loss: 1.5796 - val_accuracy: 0.4457\n",
            "Epoch 17/25\n",
            "1000/1000 [==============================] - 4s 4ms/step - loss: 1.4885 - accuracy: 0.4770 - val_loss: 1.6140 - val_accuracy: 0.4353\n",
            "Epoch 18/25\n",
            "1000/1000 [==============================] - 4s 4ms/step - loss: 1.4808 - accuracy: 0.4785 - val_loss: 1.6027 - val_accuracy: 0.4474\n",
            "Epoch 19/25\n",
            "1000/1000 [==============================] - 4s 4ms/step - loss: 1.4752 - accuracy: 0.4802 - val_loss: 1.6511 - val_accuracy: 0.4349\n",
            "Epoch 20/25\n",
            "1000/1000 [==============================] - 4s 4ms/step - loss: 1.4717 - accuracy: 0.4868 - val_loss: 1.5864 - val_accuracy: 0.4429\n",
            "Epoch 21/25\n",
            "1000/1000 [==============================] - 5s 5ms/step - loss: 1.4638 - accuracy: 0.4852 - val_loss: 1.6677 - val_accuracy: 0.4231\n",
            "Epoch 22/25\n",
            "1000/1000 [==============================] - 4s 4ms/step - loss: 1.4577 - accuracy: 0.4886 - val_loss: 1.6160 - val_accuracy: 0.4433\n",
            "Epoch 23/25\n",
            "1000/1000 [==============================] - 4s 4ms/step - loss: 1.4592 - accuracy: 0.4885 - val_loss: 1.6289 - val_accuracy: 0.4333\n",
            "Epoch 24/25\n",
            "1000/1000 [==============================] - 5s 5ms/step - loss: 1.4509 - accuracy: 0.4902 - val_loss: 1.6715 - val_accuracy: 0.4285\n",
            "Epoch 25/25\n",
            "1000/1000 [==============================] - 4s 4ms/step - loss: 1.4410 - accuracy: 0.4942 - val_loss: 1.5995 - val_accuracy: 0.4437\n",
            "test accuracy:  0.4543\n"
          ]
        }
      ]
    },
    {
      "cell_type": "code",
      "metadata": {
        "id": "Eo28ERBPoiL6",
        "outputId": "bc9b7ce6-0616-4879-d8cf-77f0637cae41",
        "colab": {
          "base_uri": "https://localhost:8080/"
        }
      },
      "source": [
        "model = keras.models.Sequential([\n",
        "    keras.Input(shape=(32, 32, 3)),\n",
        "    keras.layers.Flatten(),\n",
        "    #первый полносвязный слой\n",
        "    keras.layers.Dense(256, activation=\"relu\"),\n",
        "    #второй полносвяный слой\n",
        "    #keras.layers.Dense(64, activation=\"tanh\"),\n",
        "    keras.layers.Dense(10, activation=\"softmax\"),]\n",
        ")\n",
        "\n",
        "model.compile(optimizer='Adam',\n",
        "              loss='categorical_crossentropy',\n",
        "              metrics=['accuracy'])\n",
        "#y_train_labels = tf.keras.utils.to_categorical(y_train)\n",
        "tensorboard = TensorBoard(log_dir = \"logs/{}\".format(time()))\n",
        "tensorboard_cbk = keras.callbacks.TensorBoard(log_dir='sample/', histogram_freq=1, write_graph=True, write_images=True)\n",
        "model.fit(X_train, \n",
        "          y_train_labels,\n",
        "          batch_size=32 , \n",
        "          epochs=25,\n",
        "          callbacks=[tensorboard_cbk],\n",
        "          validation_split=0.2) \n",
        "print (\"test accuracy: \", accuracy_score(y_test, np.argmax(model.predict(X_test),axis=1)))"
      ],
      "execution_count": 33,
      "outputs": [
        {
          "output_type": "stream",
          "name": "stdout",
          "text": [
            "Epoch 1/25\n",
            "1000/1000 [==============================] - 5s 5ms/step - loss: 1.9538 - accuracy: 0.3046 - val_loss: 1.8334 - val_accuracy: 0.3372\n",
            "Epoch 2/25\n",
            "1000/1000 [==============================] - 4s 4ms/step - loss: 1.7712 - accuracy: 0.3690 - val_loss: 1.7398 - val_accuracy: 0.3741\n",
            "Epoch 3/25\n",
            "1000/1000 [==============================] - 4s 4ms/step - loss: 1.7080 - accuracy: 0.3892 - val_loss: 1.6813 - val_accuracy: 0.3884\n",
            "Epoch 4/25\n",
            "1000/1000 [==============================] - 4s 4ms/step - loss: 1.6637 - accuracy: 0.4094 - val_loss: 1.6934 - val_accuracy: 0.3935\n",
            "Epoch 5/25\n",
            "1000/1000 [==============================] - 4s 4ms/step - loss: 1.6308 - accuracy: 0.4225 - val_loss: 1.6487 - val_accuracy: 0.4059\n",
            "Epoch 6/25\n",
            "1000/1000 [==============================] - 4s 4ms/step - loss: 1.6142 - accuracy: 0.4290 - val_loss: 1.6615 - val_accuracy: 0.4150\n",
            "Epoch 7/25\n",
            "1000/1000 [==============================] - 4s 4ms/step - loss: 1.5922 - accuracy: 0.4342 - val_loss: 1.6252 - val_accuracy: 0.4256\n",
            "Epoch 8/25\n",
            "1000/1000 [==============================] - 4s 4ms/step - loss: 1.5721 - accuracy: 0.4411 - val_loss: 1.6299 - val_accuracy: 0.4182\n",
            "Epoch 9/25\n",
            "1000/1000 [==============================] - 4s 4ms/step - loss: 1.5525 - accuracy: 0.4488 - val_loss: 1.5844 - val_accuracy: 0.4367\n",
            "Epoch 10/25\n",
            "1000/1000 [==============================] - 4s 4ms/step - loss: 1.5423 - accuracy: 0.4519 - val_loss: 1.6145 - val_accuracy: 0.4239\n",
            "Epoch 11/25\n",
            "1000/1000 [==============================] - 4s 4ms/step - loss: 1.5269 - accuracy: 0.4597 - val_loss: 1.6290 - val_accuracy: 0.4130\n",
            "Epoch 12/25\n",
            "1000/1000 [==============================] - 4s 4ms/step - loss: 1.5200 - accuracy: 0.4604 - val_loss: 1.5805 - val_accuracy: 0.4268\n",
            "Epoch 13/25\n",
            "1000/1000 [==============================] - 4s 4ms/step - loss: 1.5086 - accuracy: 0.4629 - val_loss: 1.6592 - val_accuracy: 0.4112\n",
            "Epoch 14/25\n",
            "1000/1000 [==============================] - 4s 4ms/step - loss: 1.4961 - accuracy: 0.4663 - val_loss: 1.5939 - val_accuracy: 0.4405\n",
            "Epoch 15/25\n",
            "1000/1000 [==============================] - 4s 4ms/step - loss: 1.4954 - accuracy: 0.4686 - val_loss: 1.6000 - val_accuracy: 0.4347\n",
            "Epoch 16/25\n",
            "1000/1000 [==============================] - 4s 4ms/step - loss: 1.4832 - accuracy: 0.4716 - val_loss: 1.5480 - val_accuracy: 0.4494\n",
            "Epoch 17/25\n",
            "1000/1000 [==============================] - 4s 4ms/step - loss: 1.4729 - accuracy: 0.4761 - val_loss: 1.5471 - val_accuracy: 0.4581\n",
            "Epoch 18/25\n",
            "1000/1000 [==============================] - 4s 4ms/step - loss: 1.4625 - accuracy: 0.4787 - val_loss: 1.5935 - val_accuracy: 0.4319\n",
            "Epoch 19/25\n",
            "1000/1000 [==============================] - 4s 4ms/step - loss: 1.4617 - accuracy: 0.4794 - val_loss: 1.5571 - val_accuracy: 0.4495\n",
            "Epoch 20/25\n",
            "1000/1000 [==============================] - 4s 4ms/step - loss: 1.4534 - accuracy: 0.4830 - val_loss: 1.5954 - val_accuracy: 0.4290\n",
            "Epoch 21/25\n",
            "1000/1000 [==============================] - 4s 4ms/step - loss: 1.4482 - accuracy: 0.4835 - val_loss: 1.5735 - val_accuracy: 0.4462\n",
            "Epoch 22/25\n",
            "1000/1000 [==============================] - 4s 4ms/step - loss: 1.4382 - accuracy: 0.4889 - val_loss: 1.5933 - val_accuracy: 0.4406\n",
            "Epoch 23/25\n",
            "1000/1000 [==============================] - 4s 4ms/step - loss: 1.4345 - accuracy: 0.4895 - val_loss: 1.5756 - val_accuracy: 0.4433\n",
            "Epoch 24/25\n",
            "1000/1000 [==============================] - 4s 4ms/step - loss: 1.4285 - accuracy: 0.4928 - val_loss: 1.5881 - val_accuracy: 0.4392\n",
            "Epoch 25/25\n",
            "1000/1000 [==============================] - 4s 4ms/step - loss: 1.4237 - accuracy: 0.4950 - val_loss: 1.5743 - val_accuracy: 0.4465\n",
            "test accuracy:  0.4574\n"
          ]
        }
      ]
    },
    {
      "cell_type": "code",
      "metadata": {
        "id": "pbhP0vhu09b6",
        "outputId": "6af52e78-00c5-4f05-e740-c7dcc2ca3fb5",
        "colab": {
          "base_uri": "https://localhost:8080/"
        }
      },
      "source": [
        "model = keras.models.Sequential([\n",
        "    keras.Input(shape=(32, 32, 3)),\n",
        "    keras.layers.Flatten(),\n",
        "    #первый полносвязный слой\n",
        "    keras.layers.Dense(256, activation=\"relu\"),\n",
        "    #второй полносвяный слой\n",
        "    #keras.layers.Dense(64, activation=\"tanh\"),\n",
        "    keras.layers.Dense(10, activation=\"softmax\"),]\n",
        ")\n",
        "\n",
        "model.compile(optimizer='Adagrad',\n",
        "              loss='categorical_crossentropy',\n",
        "              metrics=['accuracy'])\n",
        "#y_train_labels = tf.keras.utils.to_categorical(y_train)\n",
        "tensorboard = TensorBoard(log_dir = \"logs/{}\".format(time()))\n",
        "tensorboard_cbk = keras.callbacks.TensorBoard(log_dir='sample/', histogram_freq=1, write_graph=True, write_images=True)\n",
        "model.fit(X_train, \n",
        "          y_train_labels,\n",
        "          batch_size=32 , \n",
        "          epochs=25,\n",
        "          callbacks=[tensorboard_cbk],\n",
        "          validation_split=0.2) \n",
        "print (\"test accuracy: \", accuracy_score(y_test, np.argmax(model.predict(X_test),axis=1)))"
      ],
      "execution_count": 24,
      "outputs": [
        {
          "output_type": "stream",
          "name": "stdout",
          "text": [
            "Epoch 1/25\n",
            "1000/1000 [==============================] - 5s 4ms/step - loss: 1.9978 - accuracy: 0.2912 - val_loss: 1.8931 - val_accuracy: 0.3402\n",
            "Epoch 2/25\n",
            "1000/1000 [==============================] - 4s 4ms/step - loss: 1.8555 - accuracy: 0.3538 - val_loss: 1.8264 - val_accuracy: 0.3618\n",
            "Epoch 3/25\n",
            "1000/1000 [==============================] - 4s 4ms/step - loss: 1.8064 - accuracy: 0.3741 - val_loss: 1.7960 - val_accuracy: 0.3716\n",
            "Epoch 4/25\n",
            "1000/1000 [==============================] - 4s 4ms/step - loss: 1.7731 - accuracy: 0.3882 - val_loss: 1.7751 - val_accuracy: 0.3801\n",
            "Epoch 5/25\n",
            "1000/1000 [==============================] - 4s 4ms/step - loss: 1.7475 - accuracy: 0.3989 - val_loss: 1.7603 - val_accuracy: 0.3809\n",
            "Epoch 6/25\n",
            "1000/1000 [==============================] - 4s 4ms/step - loss: 1.7261 - accuracy: 0.4055 - val_loss: 1.7349 - val_accuracy: 0.3971\n",
            "Epoch 7/25\n",
            "1000/1000 [==============================] - 4s 4ms/step - loss: 1.7091 - accuracy: 0.4124 - val_loss: 1.7305 - val_accuracy: 0.3950\n",
            "Epoch 8/25\n",
            "1000/1000 [==============================] - 4s 4ms/step - loss: 1.6933 - accuracy: 0.4193 - val_loss: 1.7216 - val_accuracy: 0.3969\n",
            "Epoch 9/25\n",
            "1000/1000 [==============================] - 4s 4ms/step - loss: 1.6797 - accuracy: 0.4237 - val_loss: 1.6994 - val_accuracy: 0.4105\n",
            "Epoch 10/25\n",
            "1000/1000 [==============================] - 4s 4ms/step - loss: 1.6680 - accuracy: 0.4272 - val_loss: 1.6908 - val_accuracy: 0.4103\n",
            "Epoch 11/25\n",
            "1000/1000 [==============================] - 4s 4ms/step - loss: 1.6564 - accuracy: 0.4316 - val_loss: 1.6863 - val_accuracy: 0.4117\n",
            "Epoch 12/25\n",
            "1000/1000 [==============================] - 4s 4ms/step - loss: 1.6457 - accuracy: 0.4372 - val_loss: 1.6765 - val_accuracy: 0.4124\n",
            "Epoch 13/25\n",
            "1000/1000 [==============================] - 4s 4ms/step - loss: 1.6371 - accuracy: 0.4388 - val_loss: 1.6688 - val_accuracy: 0.4173\n",
            "Epoch 14/25\n",
            "1000/1000 [==============================] - 4s 4ms/step - loss: 1.6283 - accuracy: 0.4441 - val_loss: 1.6636 - val_accuracy: 0.4184\n",
            "Epoch 15/25\n",
            "1000/1000 [==============================] - 4s 4ms/step - loss: 1.6199 - accuracy: 0.4463 - val_loss: 1.6567 - val_accuracy: 0.4219\n",
            "Epoch 16/25\n",
            "1000/1000 [==============================] - 4s 4ms/step - loss: 1.6125 - accuracy: 0.4496 - val_loss: 1.6531 - val_accuracy: 0.4225\n",
            "Epoch 17/25\n",
            "1000/1000 [==============================] - 4s 4ms/step - loss: 1.6054 - accuracy: 0.4511 - val_loss: 1.6476 - val_accuracy: 0.4255\n",
            "Epoch 18/25\n",
            "1000/1000 [==============================] - 4s 4ms/step - loss: 1.5990 - accuracy: 0.4536 - val_loss: 1.6390 - val_accuracy: 0.4288\n",
            "Epoch 19/25\n",
            "1000/1000 [==============================] - 4s 4ms/step - loss: 1.5923 - accuracy: 0.4548 - val_loss: 1.6340 - val_accuracy: 0.4329\n",
            "Epoch 20/25\n",
            "1000/1000 [==============================] - 4s 4ms/step - loss: 1.5861 - accuracy: 0.4597 - val_loss: 1.6269 - val_accuracy: 0.4347\n",
            "Epoch 21/25\n",
            "1000/1000 [==============================] - 4s 4ms/step - loss: 1.5808 - accuracy: 0.4610 - val_loss: 1.6300 - val_accuracy: 0.4315\n",
            "Epoch 22/25\n",
            "1000/1000 [==============================] - 4s 4ms/step - loss: 1.5752 - accuracy: 0.4647 - val_loss: 1.6191 - val_accuracy: 0.4379\n",
            "Epoch 23/25\n",
            "1000/1000 [==============================] - 4s 4ms/step - loss: 1.5701 - accuracy: 0.4667 - val_loss: 1.6223 - val_accuracy: 0.4327\n",
            "Epoch 24/25\n",
            "1000/1000 [==============================] - 4s 4ms/step - loss: 1.5658 - accuracy: 0.4661 - val_loss: 1.6125 - val_accuracy: 0.4371\n",
            "Epoch 25/25\n",
            "1000/1000 [==============================] - 4s 4ms/step - loss: 1.5609 - accuracy: 0.4698 - val_loss: 1.6126 - val_accuracy: 0.4369\n",
            "test accuracy:  0.4458\n"
          ]
        }
      ]
    },
    {
      "cell_type": "code",
      "metadata": {
        "id": "q8yXH1f8z3Ix",
        "outputId": "3b5406e9-573e-44bd-fa95-b424d1d39190",
        "colab": {
          "base_uri": "https://localhost:8080/"
        }
      },
      "source": [
        "model = keras.models.Sequential([\n",
        "    keras.Input(shape=(32, 32, 3)),\n",
        "    keras.layers.Flatten(),\n",
        "    #первый полносвязный слой\n",
        "    keras.layers.Dense(256, activation=\"relu\"),\n",
        "    #второй полносвяный слой\n",
        "    #keras.layers.Dense(64, activation=\"tanh\"),\n",
        "    keras.layers.Dense(10, activation=\"softmax\"),]\n",
        ")\n",
        "\n",
        "model.compile(optimizer='SGD',\n",
        "              loss='categorical_crossentropy',\n",
        "              metrics=['accuracy'])\n",
        "#y_train_labels = tf.keras.utils.to_categorical(y_train)\n",
        "tensorboard = TensorBoard(log_dir = \"logs/{}\".format(time()))\n",
        "tensorboard_cbk = keras.callbacks.TensorBoard(log_dir='sample/', histogram_freq=1, write_graph=True, write_images=True)\n",
        "model.fit(X_train, \n",
        "          y_train_labels,\n",
        "          batch_size=32 , \n",
        "          epochs=25,\n",
        "          callbacks=[tensorboard_cbk],\n",
        "          validation_split=0.2) \n",
        "print (\"test accuracy: \", accuracy_score(y_test, np.argmax(model.predict(X_test),axis=1)))"
      ],
      "execution_count": 25,
      "outputs": [
        {
          "output_type": "stream",
          "name": "stdout",
          "text": [
            "Epoch 1/25\n",
            "1000/1000 [==============================] - 4s 4ms/step - loss: 1.9285 - accuracy: 0.3085 - val_loss: 1.8559 - val_accuracy: 0.3216\n",
            "Epoch 2/25\n",
            "1000/1000 [==============================] - 4s 4ms/step - loss: 1.7572 - accuracy: 0.3806 - val_loss: 1.7396 - val_accuracy: 0.3831\n",
            "Epoch 3/25\n",
            "1000/1000 [==============================] - 3s 3ms/step - loss: 1.6829 - accuracy: 0.4084 - val_loss: 1.6548 - val_accuracy: 0.4204\n",
            "Epoch 4/25\n",
            "1000/1000 [==============================] - 3s 3ms/step - loss: 1.6300 - accuracy: 0.4269 - val_loss: 1.6302 - val_accuracy: 0.4249\n",
            "Epoch 5/25\n",
            "1000/1000 [==============================] - 3s 3ms/step - loss: 1.5873 - accuracy: 0.4465 - val_loss: 1.6273 - val_accuracy: 0.4193\n",
            "Epoch 6/25\n",
            "1000/1000 [==============================] - 3s 3ms/step - loss: 1.5549 - accuracy: 0.4566 - val_loss: 1.5676 - val_accuracy: 0.4467\n",
            "Epoch 7/25\n",
            "1000/1000 [==============================] - 3s 3ms/step - loss: 1.5233 - accuracy: 0.4674 - val_loss: 1.5591 - val_accuracy: 0.4482\n",
            "Epoch 8/25\n",
            "1000/1000 [==============================] - 4s 4ms/step - loss: 1.4982 - accuracy: 0.4785 - val_loss: 1.5458 - val_accuracy: 0.4486\n",
            "Epoch 9/25\n",
            "1000/1000 [==============================] - 4s 4ms/step - loss: 1.4725 - accuracy: 0.4855 - val_loss: 1.5680 - val_accuracy: 0.4442\n",
            "Epoch 10/25\n",
            "1000/1000 [==============================] - 4s 4ms/step - loss: 1.4526 - accuracy: 0.4924 - val_loss: 1.5354 - val_accuracy: 0.4556\n",
            "Epoch 11/25\n",
            "1000/1000 [==============================] - 3s 3ms/step - loss: 1.4278 - accuracy: 0.5010 - val_loss: 1.5008 - val_accuracy: 0.4704\n",
            "Epoch 12/25\n",
            "1000/1000 [==============================] - 3s 3ms/step - loss: 1.4118 - accuracy: 0.5067 - val_loss: 1.5101 - val_accuracy: 0.4709\n",
            "Epoch 13/25\n",
            "1000/1000 [==============================] - 3s 3ms/step - loss: 1.3921 - accuracy: 0.5128 - val_loss: 1.4989 - val_accuracy: 0.4679\n",
            "Epoch 14/25\n",
            "1000/1000 [==============================] - 4s 4ms/step - loss: 1.3750 - accuracy: 0.5210 - val_loss: 1.4777 - val_accuracy: 0.4775\n",
            "Epoch 15/25\n",
            "1000/1000 [==============================] - 4s 4ms/step - loss: 1.3590 - accuracy: 0.5275 - val_loss: 1.4799 - val_accuracy: 0.4734\n",
            "Epoch 16/25\n",
            "1000/1000 [==============================] - 3s 3ms/step - loss: 1.3399 - accuracy: 0.5337 - val_loss: 1.5287 - val_accuracy: 0.4597\n",
            "Epoch 17/25\n",
            "1000/1000 [==============================] - 3s 3ms/step - loss: 1.3288 - accuracy: 0.5382 - val_loss: 1.4879 - val_accuracy: 0.4733\n",
            "Epoch 18/25\n",
            "1000/1000 [==============================] - 4s 4ms/step - loss: 1.3104 - accuracy: 0.5440 - val_loss: 1.4830 - val_accuracy: 0.4756\n",
            "Epoch 19/25\n",
            "1000/1000 [==============================] - 3s 3ms/step - loss: 1.2988 - accuracy: 0.5456 - val_loss: 1.4517 - val_accuracy: 0.4891\n",
            "Epoch 20/25\n",
            "1000/1000 [==============================] - 4s 4ms/step - loss: 1.2866 - accuracy: 0.5500 - val_loss: 1.4394 - val_accuracy: 0.4906\n",
            "Epoch 21/25\n",
            "1000/1000 [==============================] - 4s 4ms/step - loss: 1.2756 - accuracy: 0.5564 - val_loss: 1.4548 - val_accuracy: 0.4936\n",
            "Epoch 22/25\n",
            "1000/1000 [==============================] - 3s 3ms/step - loss: 1.2633 - accuracy: 0.5619 - val_loss: 1.4655 - val_accuracy: 0.4839\n",
            "Epoch 23/25\n",
            "1000/1000 [==============================] - 4s 4ms/step - loss: 1.2483 - accuracy: 0.5646 - val_loss: 1.4308 - val_accuracy: 0.4992\n",
            "Epoch 24/25\n",
            "1000/1000 [==============================] - 3s 3ms/step - loss: 1.2390 - accuracy: 0.5683 - val_loss: 1.4409 - val_accuracy: 0.4934\n",
            "Epoch 25/25\n",
            "1000/1000 [==============================] - 3s 3ms/step - loss: 1.2263 - accuracy: 0.5760 - val_loss: 1.4616 - val_accuracy: 0.4880\n",
            "test accuracy:  0.4964\n"
          ]
        }
      ]
    },
    {
      "cell_type": "code",
      "metadata": {
        "id": "RQJqV2vjxjes"
      },
      "source": [
        "evaluator = Evaluator(model, optimizers=optimizers)\n",
        "evaluator.fit(X_train, y_train_labels, validation_data=(X_val, y_val))\n",
        "evaluator.evaluate(X_test, y_test, accuracy_score)"
      ],
      "execution_count": null,
      "outputs": []
    },
    {
      "cell_type": "markdown",
      "metadata": {
        "id": "uFMVTSbtxjes"
      },
      "source": [
        "Прокомментируйте полученные результаты."
      ]
    },
    {
      "cell_type": "markdown",
      "metadata": {
        "id": "VFLMxug21Cg_"
      },
      "source": [
        "При тестировании оптимизаторов SGD (0.49), Adam(0.45), Adagrad (0.44), RMSprop(0.45) лучший результат показал SGD (градиентный спуск). воможно поигравшись с параметрами можно было улучшить показатели но пока это для меня за гранью возможного"
      ]
    },
    {
      "cell_type": "markdown",
      "metadata": {
        "id": "MVkaJnLWxjet"
      },
      "source": [
        "**Задание 1.4 (опционально)** Добавьте нормализацию по батчу (`BatchNormalization`) между свёрткой и активацией. Попробуйте использовать несколько нормализаций — в свёрточных и полносвязных слоях."
      ]
    },
    {
      "cell_type": "markdown",
      "metadata": {
        "id": "ppe0LGStxjet"
      },
      "source": [
        "Для удобства реализуем класс Models, который по сути будет являться списком моделей с двумя методами: add (добавить слой ко всем моделям) и add_create (создать новую модель на основе базовой с дополнительным слоем). Пользоваться им необязательно, но вдруг :)"
      ]
    },
    {
      "cell_type": "code",
      "metadata": {
        "id": "2zX9hd6Kxjet"
      },
      "source": [
        "from collections import OrderedDict\n",
        "\n",
        "class Models(OrderedDict):\n",
        "    def __init__(self, models):\n",
        "        if not isinstance(models, dict):\n",
        "            models = OrderedDict({'base_model': models})\n",
        "        super().__init__(models)\n",
        "        \n",
        "    def add(self, layer):\n",
        "        for name, model in self.items():\n",
        "            model.add(layer)\n",
        "            \n",
        "    def add_create(self, name, layer):\n",
        "        base_model = next(iter(self.items()))[1]\n",
        "        new_model = keras.models.clone_model(base_model)\n",
        "        new_model.add(layer)\n",
        "        self.update({name: new_model})\n",
        "        \n",
        "    def add_update(self, name, layer):\n",
        "        base_model = self[next(reversed(self))]\n",
        "        new_model = keras.models.clone_model(base_model)\n",
        "        new_model.add(layer)\n",
        "        self.update({name: new_model})\n",
        "\n",
        "# Example of usage \n",
        "# models = Models(keras.Sequential())\n",
        "# models.add(L.InputLayer(input_shape=(32, 32, 3)))\n",
        "# models.add(L.Convolution2D(filters=10, kernel_size=(3, 3)))\n",
        "# models.add(L.MaxPooling2D())\n",
        "# models.add_create('conv_batchnorm', L.BatchNormalization())\n",
        "# models.add(L.Activation('relu'))\n",
        "# ..."
      ],
      "execution_count": null,
      "outputs": []
    },
    {
      "cell_type": "markdown",
      "metadata": {
        "id": "qUAshodn7udK"
      },
      "source": [
        "Без нормализации:"
      ]
    },
    {
      "cell_type": "code",
      "metadata": {
        "id": "EByjaW8k7qN1",
        "outputId": "8859b035-3139-43c1-c428-5bd74972d624",
        "colab": {
          "base_uri": "https://localhost:8080/"
        }
      },
      "source": [
        "model0 = keras.models.Sequential([\n",
        "    keras.Input(shape=(32, 32, 3)),\n",
        "    keras.layers.Conv2D(filters=10,\n",
        "                           kernel_size=(3, 3),\n",
        "                           padding='same',\n",
        "                           input_shape=X_train.shape[1:]),\n",
        "    keras.layers.Activation('relu'),        \n",
        "   \n",
        "    keras.layers.MaxPool2D(pool_size=(2, 2), padding='valid'),\n",
        "   \n",
        "    keras.layers.Flatten(),\n",
        " \n",
        "    keras.layers.Dense(10, activation=\"softmax\"),\n",
        "    keras.layers.Activation('relu'),])\n",
        "\n",
        "model0.compile(optimizer='adam',\n",
        "              loss='categorical_crossentropy',\n",
        "              metrics=['accuracy'])\n",
        "y_train_labels = tf.keras.utils.to_categorical(y_train)\n",
        "model0.fit(X_train, \n",
        "          y_train_labels,\n",
        "          batch_size=32, \n",
        "          epochs=20,\n",
        "          validation_split=0.2) \n",
        "print('Test Accuracy: ', accuracy_score(y_test, np.argmax(model0.predict(X_test),axis=1)))"
      ],
      "execution_count": 28,
      "outputs": [
        {
          "output_type": "stream",
          "name": "stdout",
          "text": [
            "Epoch 1/20\n",
            "1000/1000 [==============================] - 4s 4ms/step - loss: 1.7120 - accuracy: 0.4002 - val_loss: 1.5385 - val_accuracy: 0.4569\n",
            "Epoch 2/20\n",
            "1000/1000 [==============================] - 4s 4ms/step - loss: 1.4280 - accuracy: 0.5010 - val_loss: 1.3772 - val_accuracy: 0.5241\n",
            "Epoch 3/20\n",
            "1000/1000 [==============================] - 4s 4ms/step - loss: 1.3184 - accuracy: 0.5431 - val_loss: 1.3426 - val_accuracy: 0.5325\n",
            "Epoch 4/20\n",
            "1000/1000 [==============================] - 4s 4ms/step - loss: 1.2459 - accuracy: 0.5687 - val_loss: 1.2903 - val_accuracy: 0.5529\n",
            "Epoch 5/20\n",
            "1000/1000 [==============================] - 4s 4ms/step - loss: 1.2013 - accuracy: 0.5816 - val_loss: 1.2981 - val_accuracy: 0.5444\n",
            "Epoch 6/20\n",
            "1000/1000 [==============================] - 4s 4ms/step - loss: 1.1651 - accuracy: 0.5937 - val_loss: 1.2569 - val_accuracy: 0.5642\n",
            "Epoch 7/20\n",
            "1000/1000 [==============================] - 4s 4ms/step - loss: 1.1386 - accuracy: 0.6052 - val_loss: 1.2313 - val_accuracy: 0.5760\n",
            "Epoch 8/20\n",
            "1000/1000 [==============================] - 4s 4ms/step - loss: 1.1127 - accuracy: 0.6148 - val_loss: 1.2382 - val_accuracy: 0.5729\n",
            "Epoch 9/20\n",
            "1000/1000 [==============================] - 4s 4ms/step - loss: 1.0871 - accuracy: 0.6230 - val_loss: 1.2282 - val_accuracy: 0.5721\n",
            "Epoch 10/20\n",
            "1000/1000 [==============================] - 4s 4ms/step - loss: 1.0719 - accuracy: 0.6281 - val_loss: 1.2089 - val_accuracy: 0.5831\n",
            "Epoch 11/20\n",
            "1000/1000 [==============================] - 4s 4ms/step - loss: 1.0550 - accuracy: 0.6360 - val_loss: 1.2010 - val_accuracy: 0.5847\n",
            "Epoch 12/20\n",
            "1000/1000 [==============================] - 4s 4ms/step - loss: 1.0425 - accuracy: 0.6378 - val_loss: 1.2335 - val_accuracy: 0.5714\n",
            "Epoch 13/20\n",
            "1000/1000 [==============================] - 4s 4ms/step - loss: 1.0256 - accuracy: 0.6469 - val_loss: 1.2767 - val_accuracy: 0.5611\n",
            "Epoch 14/20\n",
            "1000/1000 [==============================] - 4s 4ms/step - loss: 1.0151 - accuracy: 0.6466 - val_loss: 1.2244 - val_accuracy: 0.5754\n",
            "Epoch 15/20\n",
            "1000/1000 [==============================] - 4s 4ms/step - loss: 1.0012 - accuracy: 0.6516 - val_loss: 1.2080 - val_accuracy: 0.5867\n",
            "Epoch 16/20\n",
            "1000/1000 [==============================] - 4s 4ms/step - loss: 0.9887 - accuracy: 0.6589 - val_loss: 1.2453 - val_accuracy: 0.5726\n",
            "Epoch 17/20\n",
            "1000/1000 [==============================] - 4s 4ms/step - loss: 0.9828 - accuracy: 0.6604 - val_loss: 1.2272 - val_accuracy: 0.5780\n",
            "Epoch 18/20\n",
            "1000/1000 [==============================] - 4s 4ms/step - loss: 0.9708 - accuracy: 0.6622 - val_loss: 1.2136 - val_accuracy: 0.5847\n",
            "Epoch 19/20\n",
            "1000/1000 [==============================] - 4s 4ms/step - loss: 0.9568 - accuracy: 0.6689 - val_loss: 1.2256 - val_accuracy: 0.5774\n",
            "Epoch 20/20\n",
            "1000/1000 [==============================] - 4s 4ms/step - loss: 0.9542 - accuracy: 0.6703 - val_loss: 1.2116 - val_accuracy: 0.5841\n",
            "Test Accuracy:  0.5893\n"
          ]
        }
      ]
    },
    {
      "cell_type": "markdown",
      "metadata": {
        "id": "WWu-qT302B62"
      },
      "source": [
        "Попробоуем добавить нормализацию в свертку:"
      ]
    },
    {
      "cell_type": "code",
      "metadata": {
        "id": "ORtpt21G31YV",
        "colab": {
          "base_uri": "https://localhost:8080/"
        },
        "outputId": "4bcc7a6f-7ca5-4ca1-cbfb-42a67706b6c2"
      },
      "source": [
        "model1 = keras.models.Sequential([\n",
        "    keras.Input(shape=(32, 32, 3)),\n",
        "    keras.layers.Conv2D(filters=10,\n",
        "                           kernel_size=(3, 3),\n",
        "                           padding='same',\n",
        "                           input_shape=X_train.shape[1:]),\n",
        "    keras.layers.BatchNormalization(),\n",
        "    keras.layers.Activation('relu'),        \n",
        "   \n",
        "    keras.layers.MaxPool2D(pool_size=(2, 2), padding='valid'),\n",
        "   \n",
        "    keras.layers.Flatten(),\n",
        " \n",
        "    keras.layers.Dense(10, activation=\"softmax\"),\n",
        "    keras.layers.Activation('relu'),])\n",
        "\n",
        "model1.compile(optimizer='adam',\n",
        "              loss='categorical_crossentropy',\n",
        "              metrics=['accuracy'])\n",
        "y_train_labels = tf.keras.utils.to_categorical(y_train)\n",
        "model1.fit(X_train, \n",
        "          y_train_labels,\n",
        "          batch_size=32, \n",
        "          epochs=20,\n",
        "          validation_split=0.2) \n",
        "print('Test Accuracy: ', accuracy_score(y_test, np.argmax(model1.predict(X_test),axis=1)))"
      ],
      "execution_count": 27,
      "outputs": [
        {
          "output_type": "stream",
          "name": "stdout",
          "text": [
            "Epoch 1/20\n",
            "1000/1000 [==============================] - 5s 5ms/step - loss: 1.6172 - accuracy: 0.4360 - val_loss: 1.5911 - val_accuracy: 0.4367\n",
            "Epoch 2/20\n",
            "1000/1000 [==============================] - 4s 4ms/step - loss: 1.3091 - accuracy: 0.5417 - val_loss: 1.3258 - val_accuracy: 0.5393\n",
            "Epoch 3/20\n",
            "1000/1000 [==============================] - 4s 4ms/step - loss: 1.2055 - accuracy: 0.5782 - val_loss: 1.3547 - val_accuracy: 0.5291\n",
            "Epoch 4/20\n",
            "1000/1000 [==============================] - 4s 4ms/step - loss: 1.1439 - accuracy: 0.6036 - val_loss: 1.2333 - val_accuracy: 0.5756\n",
            "Epoch 5/20\n",
            "1000/1000 [==============================] - 4s 4ms/step - loss: 1.0942 - accuracy: 0.6239 - val_loss: 1.2819 - val_accuracy: 0.5591\n",
            "Epoch 6/20\n",
            "1000/1000 [==============================] - 4s 4ms/step - loss: 1.0537 - accuracy: 0.6358 - val_loss: 1.4588 - val_accuracy: 0.5301\n",
            "Epoch 7/20\n",
            "1000/1000 [==============================] - 4s 4ms/step - loss: 1.0213 - accuracy: 0.6498 - val_loss: 1.2579 - val_accuracy: 0.5763\n",
            "Epoch 8/20\n",
            "1000/1000 [==============================] - 4s 4ms/step - loss: 0.9924 - accuracy: 0.6576 - val_loss: 1.2210 - val_accuracy: 0.5888\n",
            "Epoch 9/20\n",
            "1000/1000 [==============================] - 4s 4ms/step - loss: 0.9723 - accuracy: 0.6658 - val_loss: 1.8417 - val_accuracy: 0.4902\n",
            "Epoch 10/20\n",
            "1000/1000 [==============================] - 4s 4ms/step - loss: 0.9466 - accuracy: 0.6733 - val_loss: 1.1914 - val_accuracy: 0.5979\n",
            "Epoch 11/20\n",
            "1000/1000 [==============================] - 4s 4ms/step - loss: 0.9329 - accuracy: 0.6794 - val_loss: 1.2790 - val_accuracy: 0.5840\n",
            "Epoch 12/20\n",
            "1000/1000 [==============================] - 4s 4ms/step - loss: 0.9155 - accuracy: 0.6836 - val_loss: 1.4025 - val_accuracy: 0.5474\n",
            "Epoch 13/20\n",
            "1000/1000 [==============================] - 4s 4ms/step - loss: 0.9030 - accuracy: 0.6873 - val_loss: 1.3137 - val_accuracy: 0.5822\n",
            "Epoch 14/20\n",
            "1000/1000 [==============================] - 4s 4ms/step - loss: 0.8932 - accuracy: 0.6928 - val_loss: 1.2630 - val_accuracy: 0.5913\n",
            "Epoch 15/20\n",
            "1000/1000 [==============================] - 4s 4ms/step - loss: 0.8826 - accuracy: 0.6935 - val_loss: 1.2935 - val_accuracy: 0.5789\n",
            "Epoch 16/20\n",
            "1000/1000 [==============================] - 4s 4ms/step - loss: 0.8676 - accuracy: 0.7023 - val_loss: 1.3366 - val_accuracy: 0.5709\n",
            "Epoch 17/20\n",
            "1000/1000 [==============================] - 4s 4ms/step - loss: 0.8630 - accuracy: 0.7013 - val_loss: 1.3316 - val_accuracy: 0.5863\n",
            "Epoch 18/20\n",
            "1000/1000 [==============================] - 4s 4ms/step - loss: 0.8559 - accuracy: 0.7036 - val_loss: 1.3347 - val_accuracy: 0.5726\n",
            "Epoch 19/20\n",
            "1000/1000 [==============================] - 4s 4ms/step - loss: 0.8475 - accuracy: 0.7075 - val_loss: 1.3795 - val_accuracy: 0.5626\n",
            "Epoch 20/20\n",
            "1000/1000 [==============================] - 4s 4ms/step - loss: 0.8383 - accuracy: 0.7119 - val_loss: 1.3548 - val_accuracy: 0.5744\n",
            "Test Accuracy:  0.5744\n"
          ]
        }
      ]
    },
    {
      "cell_type": "markdown",
      "metadata": {
        "id": "CmOgFA-P81JT"
      },
      "source": [
        "добавим нормализацию в полносвязный слой:"
      ]
    },
    {
      "cell_type": "code",
      "metadata": {
        "id": "hl41jeUt3-om",
        "outputId": "b30ef6f3-21d8-4cfe-81b9-b92d669bdc45",
        "colab": {
          "base_uri": "https://localhost:8080/"
        }
      },
      "source": [
        "model2 = keras.models.Sequential([\n",
        "    keras.Input(shape=(32, 32, 3)),\n",
        "    keras.layers.Conv2D(filters=10,\n",
        "                           kernel_size=(3, 3),\n",
        "                           padding='same',\n",
        "                           input_shape=X_train.shape[1:]),\n",
        "    keras.layers.Activation('relu'),        \n",
        "   \n",
        "    keras.layers.MaxPool2D(pool_size=(2, 2), padding='valid'),\n",
        "   \n",
        "    keras.layers.Flatten(),\n",
        " \n",
        "    keras.layers.Dense(10, activation=\"softmax\"),\n",
        "    keras.layers.BatchNormalization(),\n",
        "    keras.layers.Activation('relu'),])\n",
        "\n",
        "model2.compile(optimizer='adam',\n",
        "              loss='categorical_crossentropy',\n",
        "              metrics=['accuracy'])\n",
        "y_train_labels = tf.keras.utils.to_categorical(y_train)\n",
        "model2.fit(X_train, \n",
        "          y_train_labels,\n",
        "          batch_size=32, \n",
        "          epochs=20,\n",
        "          validation_split=0.2) \n",
        "print('Test Accuracy: ', accuracy_score(y_test, np.argmax(model2.predict(X_test),axis=1)))"
      ],
      "execution_count": 29,
      "outputs": [
        {
          "output_type": "stream",
          "name": "stdout",
          "text": [
            "Epoch 1/20\n",
            "1000/1000 [==============================] - 5s 5ms/step - loss: 3.8692 - accuracy: 0.1647 - val_loss: 3.6908 - val_accuracy: 0.1014\n",
            "Epoch 2/20\n",
            "1000/1000 [==============================] - 4s 4ms/step - loss: 2.3182 - accuracy: 0.0994 - val_loss: 2.3083 - val_accuracy: 0.0988\n",
            "Epoch 3/20\n",
            "1000/1000 [==============================] - 4s 4ms/step - loss: 2.3052 - accuracy: 0.1000 - val_loss: 2.3048 - val_accuracy: 0.1019\n",
            "Epoch 4/20\n",
            "1000/1000 [==============================] - 4s 4ms/step - loss: 2.3038 - accuracy: 0.1014 - val_loss: 2.3031 - val_accuracy: 0.1016\n",
            "Epoch 5/20\n",
            "1000/1000 [==============================] - 4s 4ms/step - loss: 2.3040 - accuracy: 0.0987 - val_loss: 2.3036 - val_accuracy: 0.1016\n",
            "Epoch 6/20\n",
            "1000/1000 [==============================] - 4s 4ms/step - loss: 2.3039 - accuracy: 0.1031 - val_loss: 2.3031 - val_accuracy: 0.0940\n",
            "Epoch 7/20\n",
            "1000/1000 [==============================] - 4s 4ms/step - loss: 2.3042 - accuracy: 0.0993 - val_loss: 2.3040 - val_accuracy: 0.0949\n",
            "Epoch 8/20\n",
            "1000/1000 [==============================] - 4s 4ms/step - loss: 2.3044 - accuracy: 0.0965 - val_loss: 2.3031 - val_accuracy: 0.1011\n",
            "Epoch 9/20\n",
            "1000/1000 [==============================] - 4s 4ms/step - loss: 2.3043 - accuracy: 0.0985 - val_loss: 2.3042 - val_accuracy: 0.1004\n",
            "Epoch 10/20\n",
            "1000/1000 [==============================] - 4s 4ms/step - loss: 2.3043 - accuracy: 0.0991 - val_loss: 2.3040 - val_accuracy: 0.0949\n",
            "Epoch 11/20\n",
            "1000/1000 [==============================] - 4s 4ms/step - loss: 2.3044 - accuracy: 0.1009 - val_loss: 2.3026 - val_accuracy: 0.1005\n",
            "Epoch 12/20\n",
            "1000/1000 [==============================] - 4s 4ms/step - loss: 2.3045 - accuracy: 0.1015 - val_loss: 2.3037 - val_accuracy: 0.1001\n",
            "Epoch 13/20\n",
            "1000/1000 [==============================] - 4s 4ms/step - loss: 2.3039 - accuracy: 0.1009 - val_loss: 2.3048 - val_accuracy: 0.0940\n",
            "Epoch 14/20\n",
            "1000/1000 [==============================] - 4s 4ms/step - loss: 2.3038 - accuracy: 0.1020 - val_loss: 2.3038 - val_accuracy: 0.1001\n",
            "Epoch 15/20\n",
            "1000/1000 [==============================] - 4s 4ms/step - loss: 2.3038 - accuracy: 0.0982 - val_loss: 2.3034 - val_accuracy: 0.1001\n",
            "Epoch 16/20\n",
            "1000/1000 [==============================] - 4s 4ms/step - loss: 2.3037 - accuracy: 0.0995 - val_loss: 2.3036 - val_accuracy: 0.1019\n",
            "Epoch 17/20\n",
            "1000/1000 [==============================] - 4s 4ms/step - loss: 2.3036 - accuracy: 0.0980 - val_loss: 2.3036 - val_accuracy: 0.1019\n",
            "Epoch 18/20\n",
            "1000/1000 [==============================] - 4s 4ms/step - loss: 2.3036 - accuracy: 0.0976 - val_loss: 2.3034 - val_accuracy: 0.1054\n",
            "Epoch 19/20\n",
            "1000/1000 [==============================] - 4s 4ms/step - loss: 2.3036 - accuracy: 0.0988 - val_loss: 2.3034 - val_accuracy: 0.1014\n",
            "Epoch 20/20\n",
            "1000/1000 [==============================] - 4s 4ms/step - loss: 2.3037 - accuracy: 0.0987 - val_loss: 2.3032 - val_accuracy: 0.0949\n",
            "Test Accuracy:  0.1\n"
          ]
        }
      ]
    },
    {
      "cell_type": "markdown",
      "metadata": {
        "id": "zxEpXbuQFZMT"
      },
      "source": [
        "Добавим нормализацию между слоями"
      ]
    },
    {
      "cell_type": "code",
      "metadata": {
        "id": "CwwV-n2M7_sG",
        "outputId": "f41429f5-d7e5-4ac5-eb23-0230ae49eadb",
        "colab": {
          "base_uri": "https://localhost:8080/"
        }
      },
      "source": [
        "model3 = keras.models.Sequential([\n",
        "    keras.Input(shape=(32, 32, 3)),\n",
        "    keras.layers.Conv2D(filters=10,\n",
        "                           kernel_size=(3, 3),\n",
        "                           padding='same',\n",
        "                           input_shape=X_train.shape[1:]),\n",
        "    keras.layers.Activation('relu'),\n",
        "    keras.layers.MaxPool2D(pool_size=(2, 2), padding='valid'),\n",
        "    \n",
        "    keras.layers.BatchNormalization(),\n",
        "    \n",
        "    keras.layers.Flatten(),\n",
        "    keras.layers.Dense(10),\n",
        "    keras.layers.Activation('relu'),\n",
        "    keras.layers.Dense(10, activation=\"softmax\"),])\n",
        "model3.compile(optimizer='adam',\n",
        "              loss='categorical_crossentropy',\n",
        "              metrics=['accuracy'])\n",
        "y_train_labels = tf.keras.utils.to_categorical(y_train)\n",
        "model3.fit(X_train, \n",
        "          y_train_labels,\n",
        "          batch_size=32, \n",
        "          epochs=20,\n",
        "          validation_split=0.2)\n",
        "from sklearn.metrics import accuracy_score \n",
        "print('Test Accuracy: ', accuracy_score(y_test, np.argmax(model3.predict(X_test),axis=1)))"
      ],
      "execution_count": 10,
      "outputs": [
        {
          "output_type": "stream",
          "name": "stdout",
          "text": [
            "Epoch 1/20\n",
            "1000/1000 [==============================] - 19s 19ms/step - loss: 1.6626 - accuracy: 0.3920 - val_loss: 1.5548 - val_accuracy: 0.4363\n",
            "Epoch 2/20\n",
            "1000/1000 [==============================] - 19s 19ms/step - loss: 1.3555 - accuracy: 0.5123 - val_loss: 1.3752 - val_accuracy: 0.5089\n",
            "Epoch 3/20\n",
            "1000/1000 [==============================] - 18s 18ms/step - loss: 1.2522 - accuracy: 0.5548 - val_loss: 1.4511 - val_accuracy: 0.4919\n",
            "Epoch 4/20\n",
            "1000/1000 [==============================] - 19s 19ms/step - loss: 1.1868 - accuracy: 0.5785 - val_loss: 1.3837 - val_accuracy: 0.5186\n",
            "Epoch 5/20\n",
            "1000/1000 [==============================] - 19s 19ms/step - loss: 1.1395 - accuracy: 0.5965 - val_loss: 1.3388 - val_accuracy: 0.5331\n",
            "Epoch 6/20\n",
            "1000/1000 [==============================] - 19s 19ms/step - loss: 1.0984 - accuracy: 0.6136 - val_loss: 1.5660 - val_accuracy: 0.4895\n",
            "Epoch 7/20\n",
            "1000/1000 [==============================] - 19s 19ms/step - loss: 1.0661 - accuracy: 0.6222 - val_loss: 1.3142 - val_accuracy: 0.5490\n",
            "Epoch 8/20\n",
            "1000/1000 [==============================] - 19s 19ms/step - loss: 1.0308 - accuracy: 0.6355 - val_loss: 1.6439 - val_accuracy: 0.4716\n",
            "Epoch 9/20\n",
            "1000/1000 [==============================] - 19s 19ms/step - loss: 1.0070 - accuracy: 0.6429 - val_loss: 1.3561 - val_accuracy: 0.5347\n",
            "Epoch 10/20\n",
            "1000/1000 [==============================] - 19s 19ms/step - loss: 0.9819 - accuracy: 0.6509 - val_loss: 1.3398 - val_accuracy: 0.5540\n",
            "Epoch 11/20\n",
            "1000/1000 [==============================] - 19s 19ms/step - loss: 0.9652 - accuracy: 0.6564 - val_loss: 1.4515 - val_accuracy: 0.5296\n",
            "Epoch 12/20\n",
            "1000/1000 [==============================] - 19s 19ms/step - loss: 0.9472 - accuracy: 0.6643 - val_loss: 1.5303 - val_accuracy: 0.5139\n",
            "Epoch 13/20\n",
            "1000/1000 [==============================] - 19s 19ms/step - loss: 0.9285 - accuracy: 0.6692 - val_loss: 1.3723 - val_accuracy: 0.5533\n",
            "Epoch 14/20\n",
            "1000/1000 [==============================] - 19s 19ms/step - loss: 0.9145 - accuracy: 0.6768 - val_loss: 1.5299 - val_accuracy: 0.5213\n",
            "Epoch 15/20\n",
            "1000/1000 [==============================] - 19s 19ms/step - loss: 0.9014 - accuracy: 0.6825 - val_loss: 1.3986 - val_accuracy: 0.5430\n",
            "Epoch 16/20\n",
            "1000/1000 [==============================] - 19s 19ms/step - loss: 0.8883 - accuracy: 0.6852 - val_loss: 1.4656 - val_accuracy: 0.5441\n",
            "Epoch 17/20\n",
            "1000/1000 [==============================] - 19s 19ms/step - loss: 0.8795 - accuracy: 0.6901 - val_loss: 1.5531 - val_accuracy: 0.5145\n",
            "Epoch 18/20\n",
            "1000/1000 [==============================] - 19s 19ms/step - loss: 0.8627 - accuracy: 0.6938 - val_loss: 1.4285 - val_accuracy: 0.5501\n",
            "Epoch 19/20\n",
            "1000/1000 [==============================] - 19s 19ms/step - loss: 0.8584 - accuracy: 0.6960 - val_loss: 1.4624 - val_accuracy: 0.5486\n",
            "Epoch 20/20\n",
            "1000/1000 [==============================] - 19s 19ms/step - loss: 0.8459 - accuracy: 0.6996 - val_loss: 1.4668 - val_accuracy: 0.5469\n",
            "Test Accuracy:  0.5522\n"
          ]
        }
      ]
    },
    {
      "cell_type": "markdown",
      "metadata": {
        "id": "VUBUmZoB0Izj"
      },
      "source": [
        "- без нормализации 0.58\n",
        "- нормализация в свертке 0.57\n",
        "- нормализация в полносвязном слое 0.11\n",
        "- нормализация между слоями 0.55\n",
        "Как видим, для данной модели нормализация оказалась даже немного вредной, особенно в полносвязном слое. при более многослойной модели нормализация должна дать прирост в скорости и точности."
      ]
    },
    {
      "cell_type": "code",
      "metadata": {
        "id": "wBUuoOXf3yMx"
      },
      "source": [
        ""
      ],
      "execution_count": null,
      "outputs": []
    },
    {
      "cell_type": "markdown",
      "metadata": {
        "id": "G3Doml67xjev"
      },
      "source": [
        "**Задание 1.5 (опционально)** Посмотрите на batch_size (параметр model.fit) - при большем батче модель будет быстрее проходить эпохи, но с совсем огромным батчом вам потребуется больше эпох для сходимости (т.к. сеть делает меньше шагов за одну эпоху).\n",
        "Найдите такое значение, при котором модель быстрее достигает точности 55%. **Hint**: используйте early stopping callback."
      ]
    },
    {
      "cell_type": "markdown",
      "metadata": {
        "id": "L1GsMtyIxjew"
      },
      "source": [
        "**Задание 1.6 (опционально)** Попробуйте найти такую комбинацию метода обучения и нормализации, при которой сеть имеет наилучшую кривую обучения. Поясните, что вы понимаете под \"наилучшей\" кривой обучения."
      ]
    },
    {
      "cell_type": "markdown",
      "metadata": {
        "id": "-unmmw3Txjey"
      },
      "source": [
        "## Свёрточная нейросеть здорового человека\n",
        "\n",
        "**Задание 1.7 (обязательно попытаться)** Наигравшись выше, обучим большую свёрточную сеть, которая даст на тестовой выборке __accuracy больше 80%__. В этом задании вам потребуется провести эксперименты, сравнив их между собой в конце. Возможно, может быть несколько проще, если писать выводы во время или сразу после каждого эксперимента, после чего сделать общие выводы.\n",
        "\n",
        "Рекомендуем начать с лучшей модели предыдущего задания и постепенно её улучшать. Вы можете использовать всё, что угодно: любые активации, сколь угодно большие свёрточные слои и глубокие сети. Единственное ограничение: __нельзя использовать предобученные сети и дополнительные данные__.\n",
        "\n",
        "### Полезные советы\n",
        "* Для начала, неплохо бы научить что-нибудь побольше, чем 10 фильтров 3x3.\n",
        "* __Главное правило: одно изменение на эксперимент__. Если у вас есть 2 идеи по улучшению сети, сначала попробуйте их независимо. Может оказаться, что одно из них дало __+10%__ точности а другое __-7%__. А вы так и будете думать, что сделали 2 полезных изменения которые в сумме дают __+3%__. Если какая-то идея не работает — даже если она вам нравится - опишите ее и выкидывайте из дальнейших экспериментов.\n",
        "* __Be careful or you will dropout__. Дропаут (`L.Dropout`) может позволить вам обучить в несколько раз бОльшую сеть без переобучения, выжав несколько процентов качества. Это круто, но не стоит сразу ставить dropout 50%. Во-первых, слишком сильный дропаут только ухудшит сеть (underfitting). Во-вторых, даже если дропаут улучшает качество, он замедляет обучение. Рекомендуем начинать с небольшого дропаута, быстро провести основные эксперименты, а потом жахнуть в 2 раза больше нейронов и дропаута ~~на ночь~~.\n",
        "* __Аугментация данных__. Если котика слегка повернуть и подрезать (простите), он всё равно останется котиком. А в керасе есть [удобный класс](https://keras.io/preprocessing/image/), который поставит подрезание котиков на поток. Ещё можно сделать этот трюк в тесте: вертим картинку 10 раз, предсказываем вероятности и усредняем. Только один совет: прежде, чем учить, посмотрите глазами на аугментированные картинки. Если вы сами не можете их различить, то и сеть не сможет.\n",
        "* __Don't just stack more layers__. Есть более эффективные способы организовать слои, чем простой Sequential. Вот пара идей: [Inception family](https://hacktilldawn.com/2016/09/25/inception-modules-explained-and-implemented/), [ResNet family](https://towardsdatascience.com/an-overview-of-resnet-and-its-variants-5281e2f56035?gi=9018057983ca), [Densely-connected convolutions](https://arxiv.org/abs/1608.06993). Только не копируйте архитектуру подчистую — вам скорее всего хватит меньшего размера.\n",
        "* __Долго != плохо__. Более глубокие архитектуры обычно требуют бОльше эпох до сходимости. Это значит, что в первые несколько эпох они могут быть хуже менее глубоких аналогов. Дайте им время, запаситесь чаем и обмажьтесь batch-norm-ом."
      ]
    },
    {
      "cell_type": "code",
      "metadata": {
        "id": "fJkfhCNZ2ZEs",
        "colab": {
          "base_uri": "https://localhost:8080/"
        },
        "outputId": "84aa5263-ccc5-4e29-b17a-df2a12dd29dc"
      },
      "source": [
        "modelx = keras.models.Sequential([\n",
        "    keras.Input(shape=(32, 32, 3)),\n",
        "\n",
        "    #1\n",
        "    keras.layers.Conv2D(filters=64,\n",
        "                           kernel_size=(3, 3),\n",
        "                           padding='same',\n",
        "                           input_shape=X_train.shape[1:]),\n",
        "    keras.layers.BatchNormalization(),\n",
        "    keras.layers.Activation('relu'),\n",
        "    \n",
        "    keras.layers.Conv2D(filters=64,\n",
        "                           kernel_size=(3, 3),\n",
        "                           padding='same',\n",
        "                        ),\n",
        "    keras.layers.BatchNormalization(),\n",
        "    keras.layers.Activation('relu'),\n",
        "    keras.layers.MaxPool2D(pool_size=(2, 2), padding='valid'),\n",
        "    \n",
        "    #2\n",
        "    keras.layers.Conv2D(filters=128,\n",
        "                           kernel_size=(3, 3),\n",
        "                           padding='same',\n",
        "                        ),\n",
        "    keras.layers.BatchNormalization(),\n",
        "    keras.layers.Activation('relu'),\n",
        "    \n",
        "    keras.layers.Conv2D(filters=128,\n",
        "                           kernel_size=(3, 3),\n",
        "                           padding='same',\n",
        "                        ),\n",
        "    keras.layers.BatchNormalization(),\n",
        "    keras.layers.Activation('relu'),\n",
        "    keras.layers.MaxPool2D(pool_size=(2, 2), padding='valid'),\n",
        "\n",
        "    \n",
        "\n",
        "    #3\n",
        "    keras.layers.Conv2D(filters=256,\n",
        "                           kernel_size=(3, 3),\n",
        "                           padding='same',\n",
        "                        ),\n",
        "    keras.layers.BatchNormalization(),\n",
        "    keras.layers.Activation('relu'),\n",
        "    \n",
        "    keras.layers.Conv2D(filters=256,\n",
        "                           kernel_size=(3, 3),\n",
        "                           padding='same',\n",
        "                        ),\n",
        "    keras.layers.BatchNormalization(),\n",
        "    keras.layers.Activation('relu'),\n",
        "    #keras.layers.Conv2D(filters=256,\n",
        "    #                       kernel_size=(3, 3),\n",
        "    #                       padding='same',\n",
        "    #                    ),\n",
        "    #keras.layers.BatchNormalization(),\n",
        "    #keras.layers.Activation('relu'),\n",
        "    keras.layers.MaxPool2D(pool_size=(2, 2), padding='valid'),\n",
        "\n",
        "    #keras.layers.Conv2D(filters=256,\n",
        "    #                       kernel_size=(3, 3),\n",
        "    #                       padding='same',\n",
        "    #                    ),\n",
        "    #keras.layers.BatchNormalization(),\n",
        "    #keras.layers.Activation('relu'),\n",
        "\n",
        "    #keras.layers.MaxPool2D(pool_size=(2, 2), padding='valid'),\n",
        "\n",
        "    #4\n",
        "    keras.layers.Conv2D(filters=512,\n",
        "                           kernel_size=(3, 3),\n",
        "                           padding='same',\n",
        "                        ),\n",
        "    keras.layers.BatchNormalization(),\n",
        "    keras.layers.Activation('relu'),\n",
        "    \n",
        "    keras.layers.Conv2D(filters=512,\n",
        "                           kernel_size=(3, 3),\n",
        "                           padding='same',\n",
        "                        ),\n",
        "    keras.layers.BatchNormalization(),\n",
        "    keras.layers.Activation('relu'),\n",
        "    \n",
        "    keras.layers.Conv2D(filters=512,\n",
        "                           kernel_size=(3, 3),\n",
        "                           padding='same',\n",
        "                        ),\n",
        "    keras.layers.BatchNormalization(),\n",
        "    keras.layers.Activation('relu'),\n",
        "    keras.layers.MaxPool2D(pool_size=(2, 2), padding='valid'),\n",
        "\n",
        "    #keras.layers.BatchNormalization(),\n",
        "    keras.layers.Flatten(),\n",
        "    #первый полносвязный слой\n",
        "    keras.layers.Dense(2000),\n",
        "    keras.layers.Dropout(0.8),\n",
        "    keras.layers.Activation('relu'),\n",
        "    keras.layers.Dense(2000),\n",
        "    keras.layers.Dropout(0.8),\n",
        "    keras.layers.Activation('relu'),\n",
        "    keras.layers.Dense(10, activation=\"softmax\"),])\n",
        "modelx.compile(optimizer='adam',\n",
        "              loss='categorical_crossentropy',\n",
        "              metrics=['accuracy'])\n",
        "y_train_labels = tf.keras.utils.to_categorical(y_train)\n",
        "modelx.fit(X_train, \n",
        "          y_train_labels,\n",
        "          batch_size=32, \n",
        "          epochs=25,\n",
        "          validation_split=0.2) \n",
        "from sklearn.metrics import accuracy_score\n",
        "print('Test Accuracy: ', accuracy_score(y_test, np.argmax(modelx.predict(X_test),axis=1)))"
      ],
      "execution_count": 13,
      "outputs": [
        {
          "output_type": "stream",
          "name": "stdout",
          "text": [
            "Epoch 1/25\n",
            "1000/1000 [==============================] - 95s 52ms/step - loss: 2.5281 - accuracy: 0.1384 - val_loss: 2.1165 - val_accuracy: 0.1719\n",
            "Epoch 2/25\n",
            "1000/1000 [==============================] - 54s 54ms/step - loss: 1.9948 - accuracy: 0.2225 - val_loss: 1.8206 - val_accuracy: 0.2899\n",
            "Epoch 3/25\n",
            "1000/1000 [==============================] - 54s 54ms/step - loss: 1.7672 - accuracy: 0.2900 - val_loss: 1.8035 - val_accuracy: 0.3175\n",
            "Epoch 4/25\n",
            "1000/1000 [==============================] - 52s 52ms/step - loss: 1.6944 - accuracy: 0.3363 - val_loss: 1.9208 - val_accuracy: 0.2984\n",
            "Epoch 5/25\n",
            "1000/1000 [==============================] - 52s 52ms/step - loss: 1.5403 - accuracy: 0.4262 - val_loss: 1.6815 - val_accuracy: 0.4067\n",
            "Epoch 6/25\n",
            "1000/1000 [==============================] - 53s 53ms/step - loss: 1.4056 - accuracy: 0.5154 - val_loss: 1.2719 - val_accuracy: 0.5501\n",
            "Epoch 7/25\n",
            "1000/1000 [==============================] - 52s 52ms/step - loss: 1.2991 - accuracy: 0.5638 - val_loss: 1.3823 - val_accuracy: 0.5530\n",
            "Epoch 8/25\n",
            "1000/1000 [==============================] - 54s 54ms/step - loss: 1.2374 - accuracy: 0.5928 - val_loss: 1.1011 - val_accuracy: 0.6206\n",
            "Epoch 9/25\n",
            "1000/1000 [==============================] - 52s 52ms/step - loss: 1.0878 - accuracy: 0.6408 - val_loss: 1.1641 - val_accuracy: 0.5846\n",
            "Epoch 10/25\n",
            "1000/1000 [==============================] - 54s 54ms/step - loss: 1.1079 - accuracy: 0.6477 - val_loss: 1.1233 - val_accuracy: 0.6118\n",
            "Epoch 11/25\n",
            "1000/1000 [==============================] - 52s 52ms/step - loss: 1.0239 - accuracy: 0.6792 - val_loss: 0.9255 - val_accuracy: 0.6948\n",
            "Epoch 12/25\n",
            "1000/1000 [==============================] - 52s 52ms/step - loss: 0.8971 - accuracy: 0.7138 - val_loss: 0.7656 - val_accuracy: 0.7439\n",
            "Epoch 13/25\n",
            "1000/1000 [==============================] - 54s 54ms/step - loss: 0.7203 - accuracy: 0.7705 - val_loss: 0.8044 - val_accuracy: 0.7411\n",
            "Epoch 14/25\n",
            "1000/1000 [==============================] - 54s 54ms/step - loss: 0.6223 - accuracy: 0.7992 - val_loss: 0.7697 - val_accuracy: 0.7479\n",
            "Epoch 15/25\n",
            "1000/1000 [==============================] - 54s 54ms/step - loss: 0.5609 - accuracy: 0.8221 - val_loss: 0.9241 - val_accuracy: 0.7154\n",
            "Epoch 16/25\n",
            "1000/1000 [==============================] - 54s 54ms/step - loss: 0.4953 - accuracy: 0.8432 - val_loss: 0.7583 - val_accuracy: 0.7621\n",
            "Epoch 17/25\n",
            "1000/1000 [==============================] - 54s 54ms/step - loss: 0.4487 - accuracy: 0.8579 - val_loss: 0.7734 - val_accuracy: 0.7711\n",
            "Epoch 18/25\n",
            "1000/1000 [==============================] - 54s 54ms/step - loss: 0.3969 - accuracy: 0.8743 - val_loss: 0.8412 - val_accuracy: 0.7617\n",
            "Epoch 19/25\n",
            "1000/1000 [==============================] - 52s 52ms/step - loss: 0.3497 - accuracy: 0.8905 - val_loss: 1.1067 - val_accuracy: 0.7420\n",
            "Epoch 20/25\n",
            "1000/1000 [==============================] - 52s 52ms/step - loss: 0.3160 - accuracy: 0.9027 - val_loss: 0.7645 - val_accuracy: 0.7971\n",
            "Epoch 21/25\n",
            "1000/1000 [==============================] - 54s 54ms/step - loss: 0.2743 - accuracy: 0.9165 - val_loss: 0.8258 - val_accuracy: 0.7935\n",
            "Epoch 22/25\n",
            "1000/1000 [==============================] - 52s 52ms/step - loss: 0.2531 - accuracy: 0.9243 - val_loss: 0.8691 - val_accuracy: 0.7886\n",
            "Epoch 23/25\n",
            "1000/1000 [==============================] - 54s 54ms/step - loss: 0.2170 - accuracy: 0.9345 - val_loss: 0.8918 - val_accuracy: 0.7781\n",
            "Epoch 24/25\n",
            "1000/1000 [==============================] - 53s 53ms/step - loss: 0.2028 - accuracy: 0.9406 - val_loss: 0.9448 - val_accuracy: 0.7871\n",
            "Epoch 25/25\n",
            "1000/1000 [==============================] - 54s 54ms/step - loss: 0.1926 - accuracy: 0.9443 - val_loss: 0.8883 - val_accuracy: 0.8026\n",
            "Test Accuracy:  0.8003\n"
          ]
        }
      ]
    },
    {
      "cell_type": "markdown",
      "metadata": {
        "id": "8Mm6fAOTxje1"
      },
      "source": [
        "Момент истины: проверьте, какого качества достигла ваша сеть."
      ]
    },
    {
      "cell_type": "code",
      "metadata": {
        "id": "BgUcJYLzxje2",
        "colab": {
          "base_uri": "https://localhost:8080/"
        },
        "outputId": "38a9e567-2b41-43ca-d7a6-68d1dba1431c"
      },
      "source": [
        "from sklearn.metrics import accuracy_score\n",
        "test_acc = accuracy_score(y_test, np.argmax(modelx.predict(X_test),axis=1))\n",
        "print(\"\\n Test_acc =\", test_acc)\n",
        "if test_acc > 0.8:\n",
        "    print(\"Это победа!\")"
      ],
      "execution_count": 16,
      "outputs": [
        {
          "output_type": "stream",
          "name": "stdout",
          "text": [
            "\n",
            " Test_acc = 0.8003\n",
            "Это победа!\n"
          ]
        }
      ]
    },
    {
      "cell_type": "markdown",
      "metadata": {
        "id": "TjZo-jifxje2"
      },
      "source": [
        "А теперь, опишите свои <s>ощущения</s> результаты от проведенных экспериментов. "
      ]
    },
    {
      "cell_type": "markdown",
      "metadata": {
        "id": "H9AIzcovLuy-"
      },
      "source": [
        "1) стартовал с точности 0.55. \n",
        "2) пробовал увеличиь количество фильтров - результат стал лучше, но больше 100 не стал, так как прироста большого не увидел.\n",
        "3) пробовал увеличивать количество нейроном в полносвязном слое - результат улучшился но разница между точностью тренироваочной и валидационной выборки с самом начала была огромной в сторону тренировочной. это говорит о переобучении тренировочной выборки. Поэтому применил регуляризацию, а именно метод Droup out. увеличивал количество нейроно и смотре прирост точности, параллельно увеличивая значение параметра для dropout (процет выключаемых нейронов)\n",
        "4) добавлял слои последовательно. при определнном количестве (например в 3м слое добавил 3 слоя) результат ухудшался, поэотму оставил 2.\n",
        "5) поставил нормализацию для сверточных слоев.\n",
        "6) когда уперся в 75% пришлось обратиться к другим моделям. в качестве эталона выбрал vgg16 и попытался ее реализовать. приблизился вплотную к 80%."
      ]
    },
    {
      "cell_type": "code",
      "metadata": {
        "collapsed": true,
        "id": "t_pIaUdUxje2"
      },
      "source": [
        ""
      ],
      "execution_count": null,
      "outputs": []
    }
  ]
}